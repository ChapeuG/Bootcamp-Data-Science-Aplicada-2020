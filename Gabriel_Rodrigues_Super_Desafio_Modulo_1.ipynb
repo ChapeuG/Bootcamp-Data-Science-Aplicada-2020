{
  "nbformat": 4,
  "nbformat_minor": 0,
  "metadata": {
    "colab": {
      "name": "Gabriel_Rodrigues_Super_Desafio_Modulo_1",
      "provenance": [],
      "collapsed_sections": [],
      "toc_visible": true,
      "include_colab_link": true
    },
    "kernelspec": {
      "name": "python3",
      "display_name": "Python 3"
    }
  },
  "cells": [
    {
      "cell_type": "markdown",
      "metadata": {
        "id": "view-in-github",
        "colab_type": "text"
      },
      "source": [
        "<a href=\"https://colab.research.google.com/github/ChapeuG/Bootcamp-Data-Science-Aplicada-2020/blob/main/Gabriel_Rodrigues_Super_Desafio_Modulo_1.ipynb\" target=\"_parent\"><img src=\"https://colab.research.google.com/assets/colab-badge.svg\" alt=\"Open In Colab\"/></a>"
      ]
    },
    {
      "cell_type": "markdown",
      "metadata": {
        "id": "E27fQer3E8K9"
      },
      "source": [
        "Olá **Cientista**!\n",
        "\n",
        "Bem vinda e bem vindo ao **mega desafio do Módulo 01**, neste desafio queremos que você aplique tudo que aprendeu no curso, analisando uma outra informação ~~referente a base de dados de [produção hospitalar](http://www2.datasus.gov.br/DATASUS/index.php?area=0202&id=11633&VObj=http://tabnet.datasus.gov.br/cgi/deftohtm.exe?sih/cnv/qi), seja número de internação, óbito, AIH ou taxa de mortalidade.~~ \n",
        "\n",
        "**P.S: Infelizmente o DataSUS está fora do ar por tempo indeterminado, para você não parar seu projeto, adicionamos no [GitHub](https://github.com/alura-cursos/agendamento-hospitalar/tree/main/dados) do curso, duas novas bases para você utilizar neste projeto (COVID-19 e Óbitos).**\n",
        "\n",
        "Uma base é dos **casos de COVID-19 baixadas do projeto [BRASIL.IO](https://brasil.io/dataset/covid19/caso/)**, outra são os números de óbitos registrados no cartório civil desde 1970 retirado do **[Kaggle](https://www.kaggle.com/amandalk/registered-deaths-brazil)**.\n",
        "\n",
        "Vocês podem escolher qualquer uma das duas bases de dados, a de COVID-19 é mais desafiadora e você vai precisar descompactar o arquivo por ser grande e entrar no site do Brasil.IO para entender todas as features presentes (No Brasil.IO tem diversas bases sobre COVID-19, estamos usando a chamada **Casos**). A base de óbito é mais simples e relativamente semelhate a utilizada no curso.\n",
        "\n",
        "Algumas dicas para você mandar bem no desafio final, capriche nas análises, escreva suas conclusões e hipóteses (mesmo que resultado seja inconclusivo) e não esqueça de colocar um resumo dos pontos que julgar mais interessantes do seu projeto.\n",
        "\n",
        "\n",
        "\n",
        "E para que o seu projeto tenha a oportunidade de ser avalido pelo Thiago G. Santos e Átila Iamarino, ao vivo na **live de revisão de projetos** submeta o link compartilhado do seu notebook [neste formulário](https://docs.google.com/forms/d/e/1FAIpQLSd1jemhvdo8sM6e-bgOryyZ2P3YuMO6E_mUQXabyBX_xhuZQQ/viewform?usp=sf_link) até dia 22/11 às 23h59.\n",
        "\n",
        "Para facilitar a vida dos seus instrutores favoritos, no momento da correção, algumas dicas de como estruturar seu projeto:\n",
        "\n",
        "- Como título do seu **Colab** coloque seu nome (Ex: Thiago_Gonçalves.ipynb)\n",
        "- Crie um resumo das suas análises na parte superior do notebook\n",
        "- Informe no resumo os dados que vc vai analisar (Ex: Finaceiros e Internações)\n",
        "\n",
        "Qualquer dúvida não deixe de perguntar no Discord, compatilhe seu projeto nas redes sociais e crie um repositório no github, esse é o início do seu portifólio em Data Science.\n",
        "\n",
        "\n",
        "\n",
        "Fique a vontade para utilizar esse notebook como template projeto.\n",
        "\n"
      ]
    },
    {
      "cell_type": "markdown",
      "metadata": {
        "id": "RshO3GgDFGhB"
      },
      "source": [
        "## Resumo:\n",
        "\n",
        "Faça aqui o resumo das suas analises, destacando os pontos principais do seu projeto"
      ]
    },
    {
      "cell_type": "markdown",
      "metadata": {
        "id": "cQHEl6AvslgK"
      },
      "source": [
        "(construção)\n",
        "\n",
        "Hipoteses: \n",
        "1- Dias de atraso Covid [link](https://colab.research.google.com/drive/1lZ2eVAsUv9GBoGJNSjLSTyYIfOWHzcW3#scrollTo=0QwLy2HsBa26)\n",
        "2- Mortalidade vs Frequência[link](https://colab.research.google.com/drive/1lZ2eVAsUv9GBoGJNSjLSTyYIfOWHzcW3#scrollTo=WLUBJbVjnggC&line=1&uniqifier=1)"
      ]
    },
    {
      "cell_type": "code",
      "metadata": {
        "id": "YvSHbpHpuGau"
      },
      "source": [
        ""
      ],
      "execution_count": null,
      "outputs": []
    },
    {
      "cell_type": "markdown",
      "metadata": {
        "id": "YJaNprdeFN7n"
      },
      "source": [
        "## Análise dos dados:\n",
        "\n",
        "Inicie aqui o desenvolvimento do seu projeto, não esqueça de adicionar textos curtos e objetivos para que os avaliadores entendam sua linha de raciocínio e as conclusões que você está chegando crie uma narrativa convincente e coerênte aos dados analisados.\n"
      ]
    },
    {
      "cell_type": "markdown",
      "metadata": {
        "id": "FS7MTxUNY41W"
      },
      "source": [
        "###Bibliotecas"
      ]
    },
    {
      "cell_type": "code",
      "metadata": {
        "id": "rX2xFgCVY6Y6"
      },
      "source": [
        "import pandas as pd\n",
        "import numpy as np\n",
        "from matplotlib import cm\n",
        "import matplotlib.pyplot as plt\n",
        "import matplotlib.ticker as ticker\n",
        "import seaborn as sns\n",
        "from matplotlib.ticker import FormatStrFormatter\n",
        "\n",
        "pd.options.display.float_format = \"{:.2f}\".format"
      ],
      "execution_count": null,
      "outputs": []
    },
    {
      "cell_type": "code",
      "metadata": {
        "id": "R2u9fBsTY8Yq",
        "colab": {
          "base_uri": "https://localhost:8080/"
        },
        "outputId": "7aaf5594-1365-4b28-cbf2-7e194c161f11"
      },
      "source": [
        "pip install plotly==4.12.0"
      ],
      "execution_count": null,
      "outputs": [
        {
          "output_type": "stream",
          "text": [
            "Requirement already satisfied: plotly==4.12.0 in /usr/local/lib/python3.6/dist-packages (4.12.0)\n",
            "Requirement already satisfied: retrying>=1.3.3 in /usr/local/lib/python3.6/dist-packages (from plotly==4.12.0) (1.3.3)\n",
            "Requirement already satisfied: six in /usr/local/lib/python3.6/dist-packages (from plotly==4.12.0) (1.15.0)\n"
          ],
          "name": "stdout"
        }
      ]
    },
    {
      "cell_type": "markdown",
      "metadata": {
        "id": "OSW7jE26CrSs"
      },
      "source": [
        "#Referências \n",
        "\n",
        "A base de dados  encontradas no meu repositório do [Github](https://github.com/ChapeuG/Bootcamp-Data-Science-Aplicada-2020)"
      ]
    },
    {
      "cell_type": "markdown",
      "metadata": {
        "id": "pPKmTQ92GpMe"
      },
      "source": [
        "**Bancos de dados**"
      ]
    },
    {
      "cell_type": "markdown",
      "metadata": {
        "id": "waiTeL9HDkhz"
      },
      "source": [
        "## **COVID**\n",
        "\n",
        "Dataset covid19 do Brasil.IO\n",
        "\n",
        "link: https://github.com/turicas/covid19-br/blob/master/api.md#casos\n",
        "\n",
        "Data:11/11/2000\n",
        "\n",
        "Périodo utilizado:Fev/2020 á NOV/2020"
      ]
    },
    {
      "cell_type": "markdown",
      "metadata": {
        "id": "ODcVWc4JN-V-"
      },
      "source": [
        ""
      ]
    },
    {
      "cell_type": "markdown",
      "metadata": {
        "id": "XyFPFxAjFmjF"
      },
      "source": [
        "## **Obitos**\n",
        "Dados de óbitos e tipos de óbitos retirados do DATASUS do KAGLE \n",
        "\n",
        "link: https://www.kaggle.com/amandalk/registered-deaths-brazil\n",
        "\n",
        "Data:11/11/2000\n",
        "\n",
        "Périodo utilizado:1970 á 2020"
      ]
    },
    {
      "cell_type": "markdown",
      "metadata": {
        "id": "79TlvXKHFVw4"
      },
      "source": [
        "## **TABNET**\n",
        "\n",
        "Dados de óbitos e tipos de óbitos retirados do DATASUS\n",
        "\n",
        "**Essa base de dados pode sofrer alterações até o Ano de 2021, visto que podem existir mais mortes ou ter registros não contabilizados\n",
        "\n",
        "link: http://tabnet.datasus.gov.br/cgi/deftohtm.exe?sih/cnv/nruf.def\n",
        "\n",
        "Data: 11/11/2000\n",
        "\n",
        "Périodo utilizado:Jan 2008 à Ago 2020"
      ]
    },
    {
      "cell_type": "markdown",
      "metadata": {
        "id": "Uk-eW2y8Gt1p"
      },
      "source": [
        "**Bibliografia**"
      ]
    },
    {
      "cell_type": "markdown",
      "metadata": {
        "id": "b85TRLZ_HQMN"
      },
      "source": [
        "Uso do Datasus para avaliação dos padrões das internações psiquiátricas, Rio Grande do Sul: [Link](https://www.scielo.br/scielo.php?script=sci_arttext&pid=S0034-89102007000500017)\n",
        "\n",
        "pna covid(IBGE) https://covid19.ibge.gov.br/pnad-covid/"
      ]
    },
    {
      "cell_type": "markdown",
      "metadata": {
        "id": "lmwmLa8-YXoG"
      },
      "source": [
        "#Base de dados"
      ]
    },
    {
      "cell_type": "code",
      "metadata": {
        "id": "OvrfoSCQ_mon",
        "colab": {
          "base_uri": "https://localhost:8080/"
        },
        "outputId": "7aee1176-8773-4559-835a-2fc951196b1e"
      },
      "source": [
        "pip install fsspec"
      ],
      "execution_count": null,
      "outputs": [
        {
          "output_type": "stream",
          "text": [
            "Requirement already satisfied: fsspec in /usr/local/lib/python3.6/dist-packages (0.8.4)\n"
          ],
          "name": "stdout"
        }
      ]
    },
    {
      "cell_type": "code",
      "metadata": {
        "id": "_6WKw7fY_twQ"
      },
      "source": [
        "fonte_covid = 'https://github.com/ChapeuG/Bootcamp-Data-Science-Aplicada-2020/blob/main/dados/Covid/COVID19-BRASILIO-06-11-2020.csv.gz?raw=true'\n",
        "dados_covid = pd.read_csv(fonte_covid,\n",
        "                          compression='gzip', header=0, sep=',')\n",
        "#Dados diários mais recentes do coronavírus por município brasileiro"
      ],
      "execution_count": null,
      "outputs": []
    },
    {
      "cell_type": "code",
      "metadata": {
        "id": "zw4S_LkkFNa2"
      },
      "source": [
        "fonte_obitos = \"https://raw.githubusercontent.com/ChapeuG/Bootcamp-Data-Science-Aplicada-2020/main/dados/Obitos/obitos-registro-civil.csv\"\n",
        "#Obitos desde 1970\n",
        "dados_obitos =pd.read_csv(fonte_obitos)"
      ],
      "execution_count": null,
      "outputs": []
    },
    {
      "cell_type": "markdown",
      "metadata": {
        "id": "8tw1MKmwfGv0"
      },
      "source": [
        "###Entendendo nossos Datasets"
      ]
    },
    {
      "cell_type": "markdown",
      "metadata": {
        "id": "m4B9J5UimJD3"
      },
      "source": [
        "Casos Covid"
      ]
    },
    {
      "cell_type": "code",
      "metadata": {
        "id": "ys6uiFQ5YvNk",
        "colab": {
          "base_uri": "https://localhost:8080/",
          "height": 326
        },
        "outputId": "1f1db940-4ae9-4fde-d741-36c65d154576"
      },
      "source": [
        "dados_covid.sample(5)\n",
        "#Entendo a nossa base de dados do COVID"
      ],
      "execution_count": null,
      "outputs": [
        {
          "output_type": "execute_result",
          "data": {
            "text/html": [
              "<div>\n",
              "<style scoped>\n",
              "    .dataframe tbody tr th:only-of-type {\n",
              "        vertical-align: middle;\n",
              "    }\n",
              "\n",
              "    .dataframe tbody tr th {\n",
              "        vertical-align: top;\n",
              "    }\n",
              "\n",
              "    .dataframe thead th {\n",
              "        text-align: right;\n",
              "    }\n",
              "</style>\n",
              "<table border=\"1\" class=\"dataframe\">\n",
              "  <thead>\n",
              "    <tr style=\"text-align: right;\">\n",
              "      <th></th>\n",
              "      <th>date</th>\n",
              "      <th>state</th>\n",
              "      <th>city</th>\n",
              "      <th>place_type</th>\n",
              "      <th>confirmed</th>\n",
              "      <th>deaths</th>\n",
              "      <th>order_for_place</th>\n",
              "      <th>is_last</th>\n",
              "      <th>estimated_population_2019</th>\n",
              "      <th>estimated_population</th>\n",
              "      <th>city_ibge_code</th>\n",
              "      <th>confirmed_per_100k_inhabitants</th>\n",
              "      <th>death_rate</th>\n",
              "    </tr>\n",
              "  </thead>\n",
              "  <tbody>\n",
              "    <tr>\n",
              "      <th>111668</th>\n",
              "      <td>2020-08-30</td>\n",
              "      <td>BA</td>\n",
              "      <td>Filadélfia</td>\n",
              "      <td>city</td>\n",
              "      <td>362</td>\n",
              "      <td>5</td>\n",
              "      <td>90</td>\n",
              "      <td>False</td>\n",
              "      <td>16377.00</td>\n",
              "      <td>16345.00</td>\n",
              "      <td>2910859.00</td>\n",
              "      <td>2214.74</td>\n",
              "      <td>0.01</td>\n",
              "    </tr>\n",
              "    <tr>\n",
              "      <th>215243</th>\n",
              "      <td>2020-10-05</td>\n",
              "      <td>MA</td>\n",
              "      <td>Zé Doca</td>\n",
              "      <td>city</td>\n",
              "      <td>3635</td>\n",
              "      <td>36</td>\n",
              "      <td>177</td>\n",
              "      <td>False</td>\n",
              "      <td>51714.00</td>\n",
              "      <td>51956.00</td>\n",
              "      <td>2114007.00</td>\n",
              "      <td>6996.30</td>\n",
              "      <td>0.01</td>\n",
              "    </tr>\n",
              "    <tr>\n",
              "      <th>292923</th>\n",
              "      <td>2020-08-05</td>\n",
              "      <td>PA</td>\n",
              "      <td>São João de Pirabas</td>\n",
              "      <td>city</td>\n",
              "      <td>200</td>\n",
              "      <td>18</td>\n",
              "      <td>104</td>\n",
              "      <td>False</td>\n",
              "      <td>23045.00</td>\n",
              "      <td>23244.00</td>\n",
              "      <td>1507474.00</td>\n",
              "      <td>860.44</td>\n",
              "      <td>0.09</td>\n",
              "    </tr>\n",
              "    <tr>\n",
              "      <th>130355</th>\n",
              "      <td>2020-06-17</td>\n",
              "      <td>BA</td>\n",
              "      <td>Macaúbas</td>\n",
              "      <td>city</td>\n",
              "      <td>4</td>\n",
              "      <td>0</td>\n",
              "      <td>17</td>\n",
              "      <td>False</td>\n",
              "      <td>49826.00</td>\n",
              "      <td>50161.00</td>\n",
              "      <td>2919801.00</td>\n",
              "      <td>7.97</td>\n",
              "      <td>0.00</td>\n",
              "    </tr>\n",
              "    <tr>\n",
              "      <th>495273</th>\n",
              "      <td>2020-04-09</td>\n",
              "      <td>MG</td>\n",
              "      <td>Patos de Minas</td>\n",
              "      <td>city</td>\n",
              "      <td>5</td>\n",
              "      <td>0</td>\n",
              "      <td>6</td>\n",
              "      <td>False</td>\n",
              "      <td>152488.00</td>\n",
              "      <td>153585.00</td>\n",
              "      <td>3148004.00</td>\n",
              "      <td>3.26</td>\n",
              "      <td>0.00</td>\n",
              "    </tr>\n",
              "  </tbody>\n",
              "</table>\n",
              "</div>"
            ],
            "text/plain": [
              "              date state  ... confirmed_per_100k_inhabitants death_rate\n",
              "111668  2020-08-30    BA  ...                        2214.74       0.01\n",
              "215243  2020-10-05    MA  ...                        6996.30       0.01\n",
              "292923  2020-08-05    PA  ...                         860.44       0.09\n",
              "130355  2020-06-17    BA  ...                           7.97       0.00\n",
              "495273  2020-04-09    MG  ...                           3.26       0.00\n",
              "\n",
              "[5 rows x 13 columns]"
            ]
          },
          "metadata": {
            "tags": []
          },
          "execution_count": 116
        }
      ]
    },
    {
      "cell_type": "code",
      "metadata": {
        "id": "u2Siy6t011xd",
        "colab": {
          "base_uri": "https://localhost:8080/",
          "height": 609
        },
        "outputId": "318b5a24-e307-45d3-aa46-9e768e7e80c3"
      },
      "source": [
        "dados_covid"
      ],
      "execution_count": null,
      "outputs": [
        {
          "output_type": "execute_result",
          "data": {
            "text/html": [
              "<div>\n",
              "<style scoped>\n",
              "    .dataframe tbody tr th:only-of-type {\n",
              "        vertical-align: middle;\n",
              "    }\n",
              "\n",
              "    .dataframe tbody tr th {\n",
              "        vertical-align: top;\n",
              "    }\n",
              "\n",
              "    .dataframe thead th {\n",
              "        text-align: right;\n",
              "    }\n",
              "</style>\n",
              "<table border=\"1\" class=\"dataframe\">\n",
              "  <thead>\n",
              "    <tr style=\"text-align: right;\">\n",
              "      <th></th>\n",
              "      <th>date</th>\n",
              "      <th>state</th>\n",
              "      <th>city</th>\n",
              "      <th>place_type</th>\n",
              "      <th>confirmed</th>\n",
              "      <th>deaths</th>\n",
              "      <th>order_for_place</th>\n",
              "      <th>is_last</th>\n",
              "      <th>estimated_population_2019</th>\n",
              "      <th>estimated_population</th>\n",
              "      <th>city_ibge_code</th>\n",
              "      <th>confirmed_per_100k_inhabitants</th>\n",
              "      <th>death_rate</th>\n",
              "    </tr>\n",
              "  </thead>\n",
              "  <tbody>\n",
              "    <tr>\n",
              "      <th>0</th>\n",
              "      <td>2020-11-05</td>\n",
              "      <td>AC</td>\n",
              "      <td>NaN</td>\n",
              "      <td>state</td>\n",
              "      <td>31248</td>\n",
              "      <td>697</td>\n",
              "      <td>234</td>\n",
              "      <td>True</td>\n",
              "      <td>881935.00</td>\n",
              "      <td>894470.00</td>\n",
              "      <td>12.00</td>\n",
              "      <td>3493.47</td>\n",
              "      <td>0.02</td>\n",
              "    </tr>\n",
              "    <tr>\n",
              "      <th>1</th>\n",
              "      <td>2020-11-04</td>\n",
              "      <td>AC</td>\n",
              "      <td>NaN</td>\n",
              "      <td>state</td>\n",
              "      <td>31218</td>\n",
              "      <td>696</td>\n",
              "      <td>233</td>\n",
              "      <td>False</td>\n",
              "      <td>881935.00</td>\n",
              "      <td>894470.00</td>\n",
              "      <td>12.00</td>\n",
              "      <td>3490.11</td>\n",
              "      <td>0.02</td>\n",
              "    </tr>\n",
              "    <tr>\n",
              "      <th>2</th>\n",
              "      <td>2020-11-03</td>\n",
              "      <td>AC</td>\n",
              "      <td>NaN</td>\n",
              "      <td>state</td>\n",
              "      <td>30962</td>\n",
              "      <td>695</td>\n",
              "      <td>232</td>\n",
              "      <td>False</td>\n",
              "      <td>881935.00</td>\n",
              "      <td>894470.00</td>\n",
              "      <td>12.00</td>\n",
              "      <td>3461.49</td>\n",
              "      <td>0.02</td>\n",
              "    </tr>\n",
              "    <tr>\n",
              "      <th>3</th>\n",
              "      <td>2020-11-02</td>\n",
              "      <td>AC</td>\n",
              "      <td>NaN</td>\n",
              "      <td>state</td>\n",
              "      <td>30954</td>\n",
              "      <td>693</td>\n",
              "      <td>231</td>\n",
              "      <td>False</td>\n",
              "      <td>881935.00</td>\n",
              "      <td>894470.00</td>\n",
              "      <td>12.00</td>\n",
              "      <td>3460.60</td>\n",
              "      <td>0.02</td>\n",
              "    </tr>\n",
              "    <tr>\n",
              "      <th>4</th>\n",
              "      <td>2020-11-01</td>\n",
              "      <td>AC</td>\n",
              "      <td>NaN</td>\n",
              "      <td>state</td>\n",
              "      <td>30951</td>\n",
              "      <td>693</td>\n",
              "      <td>230</td>\n",
              "      <td>False</td>\n",
              "      <td>881935.00</td>\n",
              "      <td>894470.00</td>\n",
              "      <td>12.00</td>\n",
              "      <td>3460.26</td>\n",
              "      <td>0.02</td>\n",
              "    </tr>\n",
              "    <tr>\n",
              "      <th>...</th>\n",
              "      <td>...</td>\n",
              "      <td>...</td>\n",
              "      <td>...</td>\n",
              "      <td>...</td>\n",
              "      <td>...</td>\n",
              "      <td>...</td>\n",
              "      <td>...</td>\n",
              "      <td>...</td>\n",
              "      <td>...</td>\n",
              "      <td>...</td>\n",
              "      <td>...</td>\n",
              "      <td>...</td>\n",
              "      <td>...</td>\n",
              "    </tr>\n",
              "    <tr>\n",
              "      <th>936865</th>\n",
              "      <td>2020-06-23</td>\n",
              "      <td>SP</td>\n",
              "      <td>Óleo</td>\n",
              "      <td>city</td>\n",
              "      <td>1</td>\n",
              "      <td>0</td>\n",
              "      <td>5</td>\n",
              "      <td>False</td>\n",
              "      <td>2496.00</td>\n",
              "      <td>2471.00</td>\n",
              "      <td>3533809.00</td>\n",
              "      <td>40.47</td>\n",
              "      <td>0.00</td>\n",
              "    </tr>\n",
              "    <tr>\n",
              "      <th>936866</th>\n",
              "      <td>2020-06-22</td>\n",
              "      <td>SP</td>\n",
              "      <td>Óleo</td>\n",
              "      <td>city</td>\n",
              "      <td>1</td>\n",
              "      <td>0</td>\n",
              "      <td>4</td>\n",
              "      <td>False</td>\n",
              "      <td>2496.00</td>\n",
              "      <td>2471.00</td>\n",
              "      <td>3533809.00</td>\n",
              "      <td>40.47</td>\n",
              "      <td>0.00</td>\n",
              "    </tr>\n",
              "    <tr>\n",
              "      <th>936867</th>\n",
              "      <td>2020-06-21</td>\n",
              "      <td>SP</td>\n",
              "      <td>Óleo</td>\n",
              "      <td>city</td>\n",
              "      <td>1</td>\n",
              "      <td>0</td>\n",
              "      <td>3</td>\n",
              "      <td>False</td>\n",
              "      <td>2496.00</td>\n",
              "      <td>2471.00</td>\n",
              "      <td>3533809.00</td>\n",
              "      <td>40.47</td>\n",
              "      <td>0.00</td>\n",
              "    </tr>\n",
              "    <tr>\n",
              "      <th>936868</th>\n",
              "      <td>2020-06-20</td>\n",
              "      <td>SP</td>\n",
              "      <td>Óleo</td>\n",
              "      <td>city</td>\n",
              "      <td>1</td>\n",
              "      <td>0</td>\n",
              "      <td>2</td>\n",
              "      <td>False</td>\n",
              "      <td>2496.00</td>\n",
              "      <td>2471.00</td>\n",
              "      <td>3533809.00</td>\n",
              "      <td>40.47</td>\n",
              "      <td>0.00</td>\n",
              "    </tr>\n",
              "    <tr>\n",
              "      <th>936869</th>\n",
              "      <td>2020-06-19</td>\n",
              "      <td>SP</td>\n",
              "      <td>Óleo</td>\n",
              "      <td>city</td>\n",
              "      <td>1</td>\n",
              "      <td>0</td>\n",
              "      <td>1</td>\n",
              "      <td>False</td>\n",
              "      <td>2496.00</td>\n",
              "      <td>2471.00</td>\n",
              "      <td>3533809.00</td>\n",
              "      <td>40.47</td>\n",
              "      <td>0.00</td>\n",
              "    </tr>\n",
              "  </tbody>\n",
              "</table>\n",
              "<p>936870 rows × 13 columns</p>\n",
              "</div>"
            ],
            "text/plain": [
              "              date state  ... confirmed_per_100k_inhabitants death_rate\n",
              "0       2020-11-05    AC  ...                        3493.47       0.02\n",
              "1       2020-11-04    AC  ...                        3490.11       0.02\n",
              "2       2020-11-03    AC  ...                        3461.49       0.02\n",
              "3       2020-11-02    AC  ...                        3460.60       0.02\n",
              "4       2020-11-01    AC  ...                        3460.26       0.02\n",
              "...            ...   ...  ...                            ...        ...\n",
              "936865  2020-06-23    SP  ...                          40.47       0.00\n",
              "936866  2020-06-22    SP  ...                          40.47       0.00\n",
              "936867  2020-06-21    SP  ...                          40.47       0.00\n",
              "936868  2020-06-20    SP  ...                          40.47       0.00\n",
              "936869  2020-06-19    SP  ...                          40.47       0.00\n",
              "\n",
              "[936870 rows x 13 columns]"
            ]
          },
          "metadata": {
            "tags": []
          },
          "execution_count": 117
        }
      ]
    },
    {
      "cell_type": "code",
      "metadata": {
        "id": "J7r6aHQn7Ujv",
        "colab": {
          "base_uri": "https://localhost:8080/",
          "height": 343
        },
        "outputId": "44d44e19-8328-4b6a-e6f8-f24d3253e058"
      },
      "source": [
        "#vamos adicionar a coluna de região\n",
        "dados_covid['region'] = dados_covid['state']\n",
        "\n",
        "dados_covid[\"region\"].replace([\"AM\",\"RR\",\"AP\",\"PA\",\"TO\",\"RO\",\"AC\"], \"Norte\", inplace=True)\n",
        "dados_covid[\"region\"].replace([\"MA\",\"PI\",\"CE\",\"RN\",\"PE\",\"PB\",\"SE\",\"AL\",\"BA\"], \"Nordeste\", inplace=True)\n",
        "dados_covid[\"region\"].replace([\"MT\",\"MS\",\"GO\",\"DF\"], \"Centro-Oeste\", inplace=True)\n",
        "dados_covid[\"region\"].replace([\"PR\",\"RS\",\"SC\"], \"Sul\", inplace=True)\n",
        "dados_covid[\"region\"].replace([\"SP\",\"RJ\",\"ES\",\"MG\"], \"Sudeste\", inplace=True)\n",
        "dados_covid.sample(5)"
      ],
      "execution_count": null,
      "outputs": [
        {
          "output_type": "execute_result",
          "data": {
            "text/html": [
              "<div>\n",
              "<style scoped>\n",
              "    .dataframe tbody tr th:only-of-type {\n",
              "        vertical-align: middle;\n",
              "    }\n",
              "\n",
              "    .dataframe tbody tr th {\n",
              "        vertical-align: top;\n",
              "    }\n",
              "\n",
              "    .dataframe thead th {\n",
              "        text-align: right;\n",
              "    }\n",
              "</style>\n",
              "<table border=\"1\" class=\"dataframe\">\n",
              "  <thead>\n",
              "    <tr style=\"text-align: right;\">\n",
              "      <th></th>\n",
              "      <th>date</th>\n",
              "      <th>state</th>\n",
              "      <th>city</th>\n",
              "      <th>place_type</th>\n",
              "      <th>confirmed</th>\n",
              "      <th>deaths</th>\n",
              "      <th>order_for_place</th>\n",
              "      <th>is_last</th>\n",
              "      <th>estimated_population_2019</th>\n",
              "      <th>estimated_population</th>\n",
              "      <th>city_ibge_code</th>\n",
              "      <th>confirmed_per_100k_inhabitants</th>\n",
              "      <th>death_rate</th>\n",
              "      <th>region</th>\n",
              "    </tr>\n",
              "  </thead>\n",
              "  <tbody>\n",
              "    <tr>\n",
              "      <th>304299</th>\n",
              "      <td>2020-06-25</td>\n",
              "      <td>PB</td>\n",
              "      <td>Cacimbas</td>\n",
              "      <td>city</td>\n",
              "      <td>30</td>\n",
              "      <td>1</td>\n",
              "      <td>35</td>\n",
              "      <td>False</td>\n",
              "      <td>7173.00</td>\n",
              "      <td>7199.00</td>\n",
              "      <td>2503555.00</td>\n",
              "      <td>416.72</td>\n",
              "      <td>0.03</td>\n",
              "      <td>Nordeste</td>\n",
              "    </tr>\n",
              "    <tr>\n",
              "      <th>248030</th>\n",
              "      <td>2020-07-30</td>\n",
              "      <td>GO</td>\n",
              "      <td>Rialma</td>\n",
              "      <td>city</td>\n",
              "      <td>150</td>\n",
              "      <td>1</td>\n",
              "      <td>108</td>\n",
              "      <td>False</td>\n",
              "      <td>10918.00</td>\n",
              "      <td>10940.00</td>\n",
              "      <td>5218607.00</td>\n",
              "      <td>1371.12</td>\n",
              "      <td>0.01</td>\n",
              "      <td>Centro-Oeste</td>\n",
              "    </tr>\n",
              "    <tr>\n",
              "      <th>693806</th>\n",
              "      <td>2020-05-06</td>\n",
              "      <td>SC</td>\n",
              "      <td>Lages</td>\n",
              "      <td>city</td>\n",
              "      <td>35</td>\n",
              "      <td>0</td>\n",
              "      <td>46</td>\n",
              "      <td>False</td>\n",
              "      <td>157544.00</td>\n",
              "      <td>157349.00</td>\n",
              "      <td>4209300.00</td>\n",
              "      <td>22.24</td>\n",
              "      <td>0.00</td>\n",
              "      <td>Sul</td>\n",
              "    </tr>\n",
              "    <tr>\n",
              "      <th>506284</th>\n",
              "      <td>2020-06-04</td>\n",
              "      <td>MG</td>\n",
              "      <td>Riacho dos Machados</td>\n",
              "      <td>city</td>\n",
              "      <td>1</td>\n",
              "      <td>0</td>\n",
              "      <td>27</td>\n",
              "      <td>False</td>\n",
              "      <td>9481.00</td>\n",
              "      <td>9476.00</td>\n",
              "      <td>3154507.00</td>\n",
              "      <td>10.55</td>\n",
              "      <td>0.00</td>\n",
              "      <td>Sudeste</td>\n",
              "    </tr>\n",
              "    <tr>\n",
              "      <th>779575</th>\n",
              "      <td>2020-10-23</td>\n",
              "      <td>RS</td>\n",
              "      <td>Sant'Ana do Livramento</td>\n",
              "      <td>city</td>\n",
              "      <td>587</td>\n",
              "      <td>6</td>\n",
              "      <td>215</td>\n",
              "      <td>False</td>\n",
              "      <td>77027.00</td>\n",
              "      <td>76321.00</td>\n",
              "      <td>4317103.00</td>\n",
              "      <td>769.12</td>\n",
              "      <td>0.01</td>\n",
              "      <td>Sul</td>\n",
              "    </tr>\n",
              "  </tbody>\n",
              "</table>\n",
              "</div>"
            ],
            "text/plain": [
              "              date state  ... death_rate        region\n",
              "304299  2020-06-25    PB  ...       0.03      Nordeste\n",
              "248030  2020-07-30    GO  ...       0.01  Centro-Oeste\n",
              "693806  2020-05-06    SC  ...       0.00           Sul\n",
              "506284  2020-06-04    MG  ...       0.00       Sudeste\n",
              "779575  2020-10-23    RS  ...       0.01           Sul\n",
              "\n",
              "[5 rows x 14 columns]"
            ]
          },
          "metadata": {
            "tags": []
          },
          "execution_count": 118
        }
      ]
    },
    {
      "cell_type": "code",
      "metadata": {
        "id": "nfro2zVBfRd4",
        "colab": {
          "base_uri": "https://localhost:8080/"
        },
        "outputId": "8543804c-08cc-4ce6-8736-675a6745dcee"
      },
      "source": [
        "dados_covid.info()\n",
        "#info para saber os tipos de variáveis que possuímos e quais são nulas "
      ],
      "execution_count": null,
      "outputs": [
        {
          "output_type": "stream",
          "text": [
            "<class 'pandas.core.frame.DataFrame'>\n",
            "RangeIndex: 936870 entries, 0 to 936869\n",
            "Data columns (total 14 columns):\n",
            " #   Column                          Non-Null Count   Dtype  \n",
            "---  ------                          --------------   -----  \n",
            " 0   date                            936870 non-null  object \n",
            " 1   state                           936870 non-null  object \n",
            " 2   city                            930535 non-null  object \n",
            " 3   place_type                      936870 non-null  object \n",
            " 4   confirmed                       936870 non-null  int64  \n",
            " 5   deaths                          936870 non-null  int64  \n",
            " 6   order_for_place                 936870 non-null  int64  \n",
            " 7   is_last                         936870 non-null  bool   \n",
            " 8   estimated_population_2019       933215 non-null  float64\n",
            " 9   estimated_population            933215 non-null  float64\n",
            " 10  city_ibge_code                  933215 non-null  float64\n",
            " 11  confirmed_per_100k_inhabitants  919888 non-null  float64\n",
            " 12  death_rate                      936870 non-null  float64\n",
            " 13  region                          936870 non-null  object \n",
            "dtypes: bool(1), float64(5), int64(3), object(5)\n",
            "memory usage: 93.8+ MB\n"
          ],
          "name": "stdout"
        }
      ]
    },
    {
      "cell_type": "markdown",
      "metadata": {
        "id": "PYmxOdtXjiz-"
      },
      "source": [
        "a própria documentação avisa que existe dados desatualizados na coluna estimated_population_2019 por isso vamos excluir ela do nosso dataset \n",
        "\n",
        "\"estimated_population_2019 = ATENÇÃO: essa coluna possui valores desatualizados, prefira usar a coluna estimated_population.\" "
      ]
    },
    {
      "cell_type": "code",
      "metadata": {
        "id": "n9XBD5TdkuKN"
      },
      "source": [
        "#excluindo a coluna\n",
        "dados_covid = dados_covid.drop('estimated_population_2019', axis=1)"
      ],
      "execution_count": null,
      "outputs": []
    },
    {
      "cell_type": "markdown",
      "metadata": {
        "id": "AgsbPjRhkZhV"
      },
      "source": [
        "Óbitos"
      ]
    },
    {
      "cell_type": "code",
      "metadata": {
        "id": "wWHrc23HMW07",
        "colab": {
          "base_uri": "https://localhost:8080/",
          "height": 204
        },
        "outputId": "ce6a5de7-8e4c-4eab-e1ba-c27b3eac277f"
      },
      "source": [
        "dados_obitos.sample(5)\n",
        "#Entendo a nossa base de dados do obitos"
      ],
      "execution_count": null,
      "outputs": [
        {
          "output_type": "execute_result",
          "data": {
            "text/html": [
              "<div>\n",
              "<style scoped>\n",
              "    .dataframe tbody tr th:only-of-type {\n",
              "        vertical-align: middle;\n",
              "    }\n",
              "\n",
              "    .dataframe tbody tr th {\n",
              "        vertical-align: top;\n",
              "    }\n",
              "\n",
              "    .dataframe thead th {\n",
              "        text-align: right;\n",
              "    }\n",
              "</style>\n",
              "<table border=\"1\" class=\"dataframe\">\n",
              "  <thead>\n",
              "    <tr style=\"text-align: right;\">\n",
              "      <th></th>\n",
              "      <th>year</th>\n",
              "      <th>month</th>\n",
              "      <th>state</th>\n",
              "      <th>deaths</th>\n",
              "    </tr>\n",
              "  </thead>\n",
              "  <tbody>\n",
              "    <tr>\n",
              "      <th>6054</th>\n",
              "      <td>1992</td>\n",
              "      <td>7</td>\n",
              "      <td>TO</td>\n",
              "      <td>5</td>\n",
              "    </tr>\n",
              "    <tr>\n",
              "      <th>5064</th>\n",
              "      <td>1989</td>\n",
              "      <td>3</td>\n",
              "      <td>GO</td>\n",
              "      <td>358</td>\n",
              "    </tr>\n",
              "    <tr>\n",
              "      <th>12468</th>\n",
              "      <td>2012</td>\n",
              "      <td>10</td>\n",
              "      <td>AM</td>\n",
              "      <td>76</td>\n",
              "    </tr>\n",
              "    <tr>\n",
              "      <th>6660</th>\n",
              "      <td>1994</td>\n",
              "      <td>8</td>\n",
              "      <td>AL</td>\n",
              "      <td>342</td>\n",
              "    </tr>\n",
              "    <tr>\n",
              "      <th>4563</th>\n",
              "      <td>1987</td>\n",
              "      <td>6</td>\n",
              "      <td>PE</td>\n",
              "      <td>4178</td>\n",
              "    </tr>\n",
              "  </tbody>\n",
              "</table>\n",
              "</div>"
            ],
            "text/plain": [
              "       year  month state  deaths\n",
              "6054   1992      7    TO       5\n",
              "5064   1989      3    GO     358\n",
              "12468  2012     10    AM      76\n",
              "6660   1994      8    AL     342\n",
              "4563   1987      6    PE    4178"
            ]
          },
          "metadata": {
            "tags": []
          },
          "execution_count": 121
        }
      ]
    },
    {
      "cell_type": "code",
      "metadata": {
        "id": "7-PRdwinfU3o",
        "colab": {
          "base_uri": "https://localhost:8080/"
        },
        "outputId": "f0127b0e-f6b8-4034-ad9d-1b26e95ef16e"
      },
      "source": [
        "dados_obitos.info()"
      ],
      "execution_count": null,
      "outputs": [
        {
          "output_type": "stream",
          "text": [
            "<class 'pandas.core.frame.DataFrame'>\n",
            "RangeIndex: 15030 entries, 0 to 15029\n",
            "Data columns (total 4 columns):\n",
            " #   Column  Non-Null Count  Dtype \n",
            "---  ------  --------------  ----- \n",
            " 0   year    15030 non-null  int64 \n",
            " 1   month   15030 non-null  int64 \n",
            " 2   state   15030 non-null  object\n",
            " 3   deaths  15030 non-null  int64 \n",
            "dtypes: int64(3), object(1)\n",
            "memory usage: 469.8+ KB\n"
          ],
          "name": "stdout"
        }
      ]
    },
    {
      "cell_type": "code",
      "metadata": {
        "id": "8pSXOmJGdH-J",
        "colab": {
          "base_uri": "https://localhost:8080/"
        },
        "outputId": "7def074f-1401-413a-b905-19c0d483a5ea"
      },
      "source": [
        "#Tamanho do nossos Datasets\n",
        "dados_covid.shape\n",
        "dados_obitos.shape\n",
        "print('No Datasets de casos de covid temos {} linhas e {} colunas'.format(dados_covid.shape[0],dados_covid.shape[1]))\n",
        "print('No Datasets de Óbitos temos {} linhas e {} colunas'.format(dados_obitos.shape[0],dados_obitos.shape[1]))"
      ],
      "execution_count": null,
      "outputs": [
        {
          "output_type": "stream",
          "text": [
            "No Datasets de casos de covid temos 936870 linhas e 13 colunas\n",
            "No Datasets de Óbitos temos 15030 linhas e 4 colunas\n"
          ],
          "name": "stdout"
        }
      ]
    },
    {
      "cell_type": "markdown",
      "metadata": {
        "id": "5A9kslO-k2rS"
      },
      "source": [
        "Adcionar uma análise aos dados Nulos e como podemos trabalhar"
      ]
    },
    {
      "cell_type": "markdown",
      "metadata": {
        "id": "OpTXqAROdbSi"
      },
      "source": [
        "#COVID"
      ]
    },
    {
      "cell_type": "markdown",
      "metadata": {
        "id": "CoxH4RJphsk8"
      },
      "source": [
        "Para trabalhar de forma eficiente vou focar nos casos por Estado e não Cidade"
      ]
    },
    {
      "cell_type": "code",
      "metadata": {
        "id": "eYLGUgMvh_8_",
        "colab": {
          "base_uri": "https://localhost:8080/",
          "height": 538
        },
        "outputId": "33fb19ab-6f4c-429a-c6e8-6e37246a9759"
      },
      "source": [
        "dados_covid_por_estado = dados_covid\n",
        "dados_covid_por_estado = dados_covid_por_estado.query(\"place_type == 'state' \")\n",
        "dados_covid_por_estado.drop('city', axis= 1, inplace= True)\n",
        "dados_covid_por_estado"
      ],
      "execution_count": null,
      "outputs": [
        {
          "output_type": "stream",
          "text": [
            "/usr/local/lib/python3.6/dist-packages/pandas/core/frame.py:4174: SettingWithCopyWarning:\n",
            "\n",
            "\n",
            "A value is trying to be set on a copy of a slice from a DataFrame\n",
            "\n",
            "See the caveats in the documentation: https://pandas.pydata.org/pandas-docs/stable/user_guide/indexing.html#returning-a-view-versus-a-copy\n",
            "\n"
          ],
          "name": "stderr"
        },
        {
          "output_type": "execute_result",
          "data": {
            "text/html": [
              "<div>\n",
              "<style scoped>\n",
              "    .dataframe tbody tr th:only-of-type {\n",
              "        vertical-align: middle;\n",
              "    }\n",
              "\n",
              "    .dataframe tbody tr th {\n",
              "        vertical-align: top;\n",
              "    }\n",
              "\n",
              "    .dataframe thead th {\n",
              "        text-align: right;\n",
              "    }\n",
              "</style>\n",
              "<table border=\"1\" class=\"dataframe\">\n",
              "  <thead>\n",
              "    <tr style=\"text-align: right;\">\n",
              "      <th></th>\n",
              "      <th>date</th>\n",
              "      <th>state</th>\n",
              "      <th>place_type</th>\n",
              "      <th>confirmed</th>\n",
              "      <th>deaths</th>\n",
              "      <th>order_for_place</th>\n",
              "      <th>is_last</th>\n",
              "      <th>estimated_population</th>\n",
              "      <th>city_ibge_code</th>\n",
              "      <th>confirmed_per_100k_inhabitants</th>\n",
              "      <th>death_rate</th>\n",
              "      <th>region</th>\n",
              "    </tr>\n",
              "  </thead>\n",
              "  <tbody>\n",
              "    <tr>\n",
              "      <th>0</th>\n",
              "      <td>2020-11-05</td>\n",
              "      <td>AC</td>\n",
              "      <td>state</td>\n",
              "      <td>31248</td>\n",
              "      <td>697</td>\n",
              "      <td>234</td>\n",
              "      <td>True</td>\n",
              "      <td>894470.00</td>\n",
              "      <td>12.00</td>\n",
              "      <td>3493.47</td>\n",
              "      <td>0.02</td>\n",
              "      <td>Norte</td>\n",
              "    </tr>\n",
              "    <tr>\n",
              "      <th>1</th>\n",
              "      <td>2020-11-04</td>\n",
              "      <td>AC</td>\n",
              "      <td>state</td>\n",
              "      <td>31218</td>\n",
              "      <td>696</td>\n",
              "      <td>233</td>\n",
              "      <td>False</td>\n",
              "      <td>894470.00</td>\n",
              "      <td>12.00</td>\n",
              "      <td>3490.11</td>\n",
              "      <td>0.02</td>\n",
              "      <td>Norte</td>\n",
              "    </tr>\n",
              "    <tr>\n",
              "      <th>2</th>\n",
              "      <td>2020-11-03</td>\n",
              "      <td>AC</td>\n",
              "      <td>state</td>\n",
              "      <td>30962</td>\n",
              "      <td>695</td>\n",
              "      <td>232</td>\n",
              "      <td>False</td>\n",
              "      <td>894470.00</td>\n",
              "      <td>12.00</td>\n",
              "      <td>3461.49</td>\n",
              "      <td>0.02</td>\n",
              "      <td>Norte</td>\n",
              "    </tr>\n",
              "    <tr>\n",
              "      <th>3</th>\n",
              "      <td>2020-11-02</td>\n",
              "      <td>AC</td>\n",
              "      <td>state</td>\n",
              "      <td>30954</td>\n",
              "      <td>693</td>\n",
              "      <td>231</td>\n",
              "      <td>False</td>\n",
              "      <td>894470.00</td>\n",
              "      <td>12.00</td>\n",
              "      <td>3460.60</td>\n",
              "      <td>0.02</td>\n",
              "      <td>Norte</td>\n",
              "    </tr>\n",
              "    <tr>\n",
              "      <th>4</th>\n",
              "      <td>2020-11-01</td>\n",
              "      <td>AC</td>\n",
              "      <td>state</td>\n",
              "      <td>30951</td>\n",
              "      <td>693</td>\n",
              "      <td>230</td>\n",
              "      <td>False</td>\n",
              "      <td>894470.00</td>\n",
              "      <td>12.00</td>\n",
              "      <td>3460.26</td>\n",
              "      <td>0.02</td>\n",
              "      <td>Norte</td>\n",
              "    </tr>\n",
              "    <tr>\n",
              "      <th>...</th>\n",
              "      <td>...</td>\n",
              "      <td>...</td>\n",
              "      <td>...</td>\n",
              "      <td>...</td>\n",
              "      <td>...</td>\n",
              "      <td>...</td>\n",
              "      <td>...</td>\n",
              "      <td>...</td>\n",
              "      <td>...</td>\n",
              "      <td>...</td>\n",
              "      <td>...</td>\n",
              "      <td>...</td>\n",
              "    </tr>\n",
              "    <tr>\n",
              "      <th>822221</th>\n",
              "      <td>2020-02-29</td>\n",
              "      <td>SP</td>\n",
              "      <td>state</td>\n",
              "      <td>2</td>\n",
              "      <td>0</td>\n",
              "      <td>5</td>\n",
              "      <td>False</td>\n",
              "      <td>46289333.00</td>\n",
              "      <td>35.00</td>\n",
              "      <td>0.00</td>\n",
              "      <td>0.00</td>\n",
              "      <td>Sudeste</td>\n",
              "    </tr>\n",
              "    <tr>\n",
              "      <th>822222</th>\n",
              "      <td>2020-02-28</td>\n",
              "      <td>SP</td>\n",
              "      <td>state</td>\n",
              "      <td>2</td>\n",
              "      <td>0</td>\n",
              "      <td>4</td>\n",
              "      <td>False</td>\n",
              "      <td>46289333.00</td>\n",
              "      <td>35.00</td>\n",
              "      <td>0.00</td>\n",
              "      <td>0.00</td>\n",
              "      <td>Sudeste</td>\n",
              "    </tr>\n",
              "    <tr>\n",
              "      <th>822223</th>\n",
              "      <td>2020-02-27</td>\n",
              "      <td>SP</td>\n",
              "      <td>state</td>\n",
              "      <td>1</td>\n",
              "      <td>0</td>\n",
              "      <td>3</td>\n",
              "      <td>False</td>\n",
              "      <td>46289333.00</td>\n",
              "      <td>35.00</td>\n",
              "      <td>0.00</td>\n",
              "      <td>0.00</td>\n",
              "      <td>Sudeste</td>\n",
              "    </tr>\n",
              "    <tr>\n",
              "      <th>822224</th>\n",
              "      <td>2020-02-26</td>\n",
              "      <td>SP</td>\n",
              "      <td>state</td>\n",
              "      <td>1</td>\n",
              "      <td>0</td>\n",
              "      <td>2</td>\n",
              "      <td>False</td>\n",
              "      <td>46289333.00</td>\n",
              "      <td>35.00</td>\n",
              "      <td>0.00</td>\n",
              "      <td>0.00</td>\n",
              "      <td>Sudeste</td>\n",
              "    </tr>\n",
              "    <tr>\n",
              "      <th>822225</th>\n",
              "      <td>2020-02-25</td>\n",
              "      <td>SP</td>\n",
              "      <td>state</td>\n",
              "      <td>1</td>\n",
              "      <td>0</td>\n",
              "      <td>1</td>\n",
              "      <td>False</td>\n",
              "      <td>46289333.00</td>\n",
              "      <td>35.00</td>\n",
              "      <td>0.00</td>\n",
              "      <td>0.00</td>\n",
              "      <td>Sudeste</td>\n",
              "    </tr>\n",
              "  </tbody>\n",
              "</table>\n",
              "<p>6335 rows × 12 columns</p>\n",
              "</div>"
            ],
            "text/plain": [
              "              date state  ... death_rate   region\n",
              "0       2020-11-05    AC  ...       0.02    Norte\n",
              "1       2020-11-04    AC  ...       0.02    Norte\n",
              "2       2020-11-03    AC  ...       0.02    Norte\n",
              "3       2020-11-02    AC  ...       0.02    Norte\n",
              "4       2020-11-01    AC  ...       0.02    Norte\n",
              "...            ...   ...  ...        ...      ...\n",
              "822221  2020-02-29    SP  ...       0.00  Sudeste\n",
              "822222  2020-02-28    SP  ...       0.00  Sudeste\n",
              "822223  2020-02-27    SP  ...       0.00  Sudeste\n",
              "822224  2020-02-26    SP  ...       0.00  Sudeste\n",
              "822225  2020-02-25    SP  ...       0.00  Sudeste\n",
              "\n",
              "[6335 rows x 12 columns]"
            ]
          },
          "metadata": {
            "tags": []
          },
          "execution_count": 124
        }
      ]
    },
    {
      "cell_type": "code",
      "metadata": {
        "id": "SGu8AuZRqIHT",
        "colab": {
          "base_uri": "https://localhost:8080/"
        },
        "outputId": "ff141919-91f4-486c-c697-8a15135e9d77"
      },
      "source": [
        "#Confirmando quantos Estados aparecem no boletim\n",
        "dados_covid_por_estado.state.unique()"
      ],
      "execution_count": null,
      "outputs": [
        {
          "output_type": "execute_result",
          "data": {
            "text/plain": [
              "array(['AC', 'AP', 'AM', 'AL', 'DF', 'CE', 'ES', 'BA', 'MS', 'MA', 'GO',\n",
              "       'MT', 'PA', 'PB', 'PE', 'PI', 'MG', 'RO', 'RJ', 'RN', 'PR', 'RR',\n",
              "       'SE', 'SC', 'RS', 'TO', 'SP'], dtype=object)"
            ]
          },
          "metadata": {
            "tags": []
          },
          "execution_count": 125
        }
      ]
    },
    {
      "cell_type": "markdown",
      "metadata": {
        "id": "7_HTzdRLJHPG"
      },
      "source": [
        "#### ANÁLISES E HIPOTESES:\n",
        "*   Frequência de Registro\n",
        "*   Casos confirmados\n",
        "*   Taxa de mortalidade\n",
        "\n"
      ]
    },
    {
      "cell_type": "code",
      "metadata": {
        "id": "s0VL5Q6vE0WI",
        "colab": {
          "base_uri": "https://localhost:8080/",
          "height": 204
        },
        "outputId": "ae8ecea7-ba12-4b9a-d5e2-f17900e304fb"
      },
      "source": [
        "regioes = dados_covid[['region', 'date', 'deaths']].groupby(by=['region','date']).sum()\n",
        "regioes.reset_index(inplace=True)\n",
        "regioes.tail()"
      ],
      "execution_count": null,
      "outputs": [
        {
          "output_type": "execute_result",
          "data": {
            "text/html": [
              "<div>\n",
              "<style scoped>\n",
              "    .dataframe tbody tr th:only-of-type {\n",
              "        vertical-align: middle;\n",
              "    }\n",
              "\n",
              "    .dataframe tbody tr th {\n",
              "        vertical-align: top;\n",
              "    }\n",
              "\n",
              "    .dataframe thead th {\n",
              "        text-align: right;\n",
              "    }\n",
              "</style>\n",
              "<table border=\"1\" class=\"dataframe\">\n",
              "  <thead>\n",
              "    <tr style=\"text-align: right;\">\n",
              "      <th></th>\n",
              "      <th>region</th>\n",
              "      <th>date</th>\n",
              "      <th>deaths</th>\n",
              "    </tr>\n",
              "  </thead>\n",
              "  <tbody>\n",
              "    <tr>\n",
              "      <th>1215</th>\n",
              "      <td>Sul</td>\n",
              "      <td>2020-11-01</td>\n",
              "      <td>23074</td>\n",
              "    </tr>\n",
              "    <tr>\n",
              "      <th>1216</th>\n",
              "      <td>Sul</td>\n",
              "      <td>2020-11-02</td>\n",
              "      <td>23100</td>\n",
              "    </tr>\n",
              "    <tr>\n",
              "      <th>1217</th>\n",
              "      <td>Sul</td>\n",
              "      <td>2020-11-03</td>\n",
              "      <td>23224</td>\n",
              "    </tr>\n",
              "    <tr>\n",
              "      <th>1218</th>\n",
              "      <td>Sul</td>\n",
              "      <td>2020-11-04</td>\n",
              "      <td>23401</td>\n",
              "    </tr>\n",
              "    <tr>\n",
              "      <th>1219</th>\n",
              "      <td>Sul</td>\n",
              "      <td>2020-11-05</td>\n",
              "      <td>20374</td>\n",
              "    </tr>\n",
              "  </tbody>\n",
              "</table>\n",
              "</div>"
            ],
            "text/plain": [
              "     region        date  deaths\n",
              "1215    Sul  2020-11-01   23074\n",
              "1216    Sul  2020-11-02   23100\n",
              "1217    Sul  2020-11-03   23224\n",
              "1218    Sul  2020-11-04   23401\n",
              "1219    Sul  2020-11-05   20374"
            ]
          },
          "metadata": {
            "tags": []
          },
          "execution_count": 126
        }
      ]
    },
    {
      "cell_type": "code",
      "metadata": {
        "id": "GgvxdISPqoeF",
        "colab": {
          "base_uri": "https://localhost:8080/",
          "height": 542
        },
        "outputId": "2f5d7583-9017-4ffe-999e-11fbb23914f9"
      },
      "source": [
        "fig = regioes.plot(\n",
        "    #kind='bar',\n",
        "    backend='plotly', x='date', y='deaths', color='region')\n",
        "\n",
        "fig.update_layout(\n",
        "    template = 'plotly_white',\n",
        "    title='Número de Mortes por COVID por Região',\n",
        "    xaxis_title='Mortes',\n",
        "    yaxis_title='Mês/Ano',\n",
        "    autosize = True      \n",
        ")"
      ],
      "execution_count": null,
      "outputs": [
        {
          "output_type": "display_data",
          "data": {
            "text/html": [
              "<html>\n",
              "<head><meta charset=\"utf-8\" /></head>\n",
              "<body>\n",
              "    <div>            <script src=\"https://cdnjs.cloudflare.com/ajax/libs/mathjax/2.7.5/MathJax.js?config=TeX-AMS-MML_SVG\"></script><script type=\"text/javascript\">if (window.MathJax) {MathJax.Hub.Config({SVG: {font: \"STIX-Web\"}});}</script>                <script type=\"text/javascript\">window.PlotlyConfig = {MathJaxConfig: 'local'};</script>\n",
              "        <script src=\"https://cdn.plot.ly/plotly-latest.min.js\"></script>                <div id=\"c3490808-8bb4-4606-a8b3-45ac6871d53e\" class=\"plotly-graph-div\" style=\"height:525px; width:100%;\"></div>            <script type=\"text/javascript\">                                    window.PLOTLYENV=window.PLOTLYENV || {};                                    if (document.getElementById(\"c3490808-8bb4-4606-a8b3-45ac6871d53e\")) {                    Plotly.newPlot(                        \"c3490808-8bb4-4606-a8b3-45ac6871d53e\",                        [{\"hovertemplate\": \"region=Centro-Oeste<br>date=%{x}<br>deaths=%{y}<extra></extra>\", \"legendgroup\": \"Centro-Oeste\", \"line\": {\"color\": \"#636efa\", \"dash\": \"solid\"}, \"mode\": \"lines\", \"name\": \"Centro-Oeste\", \"showlegend\": true, \"type\": \"scattergl\", \"x\": [\"2020-03-07\", \"2020-03-08\", \"2020-03-09\", \"2020-03-10\", \"2020-03-11\", \"2020-03-12\", \"2020-03-13\", \"2020-03-14\", \"2020-03-15\", \"2020-03-16\", \"2020-03-17\", \"2020-03-18\", \"2020-03-19\", \"2020-03-20\", \"2020-03-21\", \"2020-03-22\", \"2020-03-23\", \"2020-03-24\", \"2020-03-25\", \"2020-03-26\", \"2020-03-27\", \"2020-03-28\", \"2020-03-29\", \"2020-03-30\", \"2020-03-31\", \"2020-04-01\", \"2020-04-02\", \"2020-04-03\", \"2020-04-04\", \"2020-04-05\", \"2020-04-06\", \"2020-04-07\", \"2020-04-08\", \"2020-04-09\", \"2020-04-10\", \"2020-04-11\", \"2020-04-12\", \"2020-04-13\", \"2020-04-14\", \"2020-04-15\", \"2020-04-16\", \"2020-04-17\", \"2020-04-18\", \"2020-04-19\", \"2020-04-20\", \"2020-04-21\", \"2020-04-22\", \"2020-04-23\", \"2020-04-24\", \"2020-04-25\", \"2020-04-26\", \"2020-04-27\", \"2020-04-28\", \"2020-04-29\", \"2020-04-30\", \"2020-05-01\", \"2020-05-02\", \"2020-05-03\", \"2020-05-04\", \"2020-05-05\", \"2020-05-06\", \"2020-05-07\", \"2020-05-08\", \"2020-05-09\", \"2020-05-10\", \"2020-05-11\", \"2020-05-12\", \"2020-05-13\", \"2020-05-14\", \"2020-05-15\", \"2020-05-16\", \"2020-05-17\", \"2020-05-18\", \"2020-05-19\", \"2020-05-20\", \"2020-05-21\", \"2020-05-22\", \"2020-05-23\", \"2020-05-24\", \"2020-05-25\", \"2020-05-26\", \"2020-05-27\", \"2020-05-28\", \"2020-05-29\", \"2020-05-30\", \"2020-05-31\", \"2020-06-01\", \"2020-06-02\", \"2020-06-03\", \"2020-06-04\", \"2020-06-05\", \"2020-06-06\", \"2020-06-07\", \"2020-06-08\", \"2020-06-09\", \"2020-06-10\", \"2020-06-11\", \"2020-06-12\", \"2020-06-13\", \"2020-06-14\", \"2020-06-15\", \"2020-06-16\", \"2020-06-17\", \"2020-06-18\", \"2020-06-19\", \"2020-06-20\", \"2020-06-21\", \"2020-06-22\", \"2020-06-23\", \"2020-06-24\", \"2020-06-25\", \"2020-06-26\", \"2020-06-27\", \"2020-06-28\", \"2020-06-29\", \"2020-06-30\", \"2020-07-01\", \"2020-07-02\", \"2020-07-03\", \"2020-07-04\", \"2020-07-05\", \"2020-07-06\", \"2020-07-07\", \"2020-07-08\", \"2020-07-09\", \"2020-07-10\", \"2020-07-11\", \"2020-07-12\", \"2020-07-13\", \"2020-07-14\", \"2020-07-15\", \"2020-07-16\", \"2020-07-17\", \"2020-07-18\", \"2020-07-19\", \"2020-07-20\", \"2020-07-21\", \"2020-07-22\", \"2020-07-23\", \"2020-07-24\", \"2020-07-25\", \"2020-07-26\", \"2020-07-27\", \"2020-07-28\", \"2020-07-29\", \"2020-07-30\", \"2020-07-31\", \"2020-08-01\", \"2020-08-02\", \"2020-08-03\", \"2020-08-04\", \"2020-08-05\", \"2020-08-06\", \"2020-08-07\", \"2020-08-08\", \"2020-08-09\", \"2020-08-10\", \"2020-08-11\", \"2020-08-12\", \"2020-08-13\", \"2020-08-14\", \"2020-08-15\", \"2020-08-16\", \"2020-08-17\", \"2020-08-18\", \"2020-08-19\", \"2020-08-20\", \"2020-08-21\", \"2020-08-22\", \"2020-08-23\", \"2020-08-24\", \"2020-08-25\", \"2020-08-26\", \"2020-08-27\", \"2020-08-28\", \"2020-08-29\", \"2020-08-30\", \"2020-08-31\", \"2020-09-01\", \"2020-09-02\", \"2020-09-03\", \"2020-09-04\", \"2020-09-05\", \"2020-09-06\", \"2020-09-07\", \"2020-09-08\", \"2020-09-09\", \"2020-09-10\", \"2020-09-11\", \"2020-09-12\", \"2020-09-13\", \"2020-09-14\", \"2020-09-15\", \"2020-09-16\", \"2020-09-17\", \"2020-09-18\", \"2020-09-19\", \"2020-09-20\", \"2020-09-21\", \"2020-09-22\", \"2020-09-23\", \"2020-09-24\", \"2020-09-25\", \"2020-09-26\", \"2020-09-27\", \"2020-09-28\", \"2020-09-29\", \"2020-09-30\", \"2020-10-01\", \"2020-10-02\", \"2020-10-03\", \"2020-10-04\", \"2020-10-05\", \"2020-10-06\", \"2020-10-07\", \"2020-10-08\", \"2020-10-09\", \"2020-10-10\", \"2020-10-11\", \"2020-10-12\", \"2020-10-13\", \"2020-10-14\", \"2020-10-15\", \"2020-10-16\", \"2020-10-17\", \"2020-10-18\", \"2020-10-19\", \"2020-10-20\", \"2020-10-21\", \"2020-10-22\", \"2020-10-23\", \"2020-10-24\", \"2020-10-25\", \"2020-10-26\", \"2020-10-27\", \"2020-10-28\", \"2020-10-29\", \"2020-10-30\", \"2020-10-31\", \"2020-11-01\", \"2020-11-02\", \"2020-11-03\", \"2020-11-04\", \"2020-11-05\"], \"xaxis\": \"x\", \"y\": [0, 0, 0, 0, 0, 0, 0, 0, 0, 0, 0, 0, 0, 0, 0, 0, 0, 0, 0, 2, 2, 2, 4, 6, 10, 12, 14, 20, 22, 24, 34, 40, 44, 48, 52, 58, 66, 76, 80, 80, 92, 100, 104, 104, 108, 110, 116, 126, 130, 136, 136, 146, 150, 150, 158, 160, 166, 170, 172, 190, 161, 206, 224, 179, 189, 246, 260, 286, 312, 324, 334, 340, 370, 386, 410, 440, 478, 488, 512, 538, 578, 612, 658, 698, 728, 754, 774, 854, 898, 930, 962, 1004, 1044, 1094, 1168, 1246, 1318, 1394, 1468, 1532, 1632, 1766, 1862, 1978, 2100, 2172, 2292, 2444, 2618, 2752, 2868, 3058, 3080, 3230, 3384, 3584, 3794, 4032, 4086, 4390, 4526, 4730, 5046, 5212, 5450, 5740, 5852, 5994, 5079, 6407, 6666, 6985, 7235, 7389, 7528, 7782, 8050, 8306, 8584, 8867, 9057, 9252, 9551, 9842, 10137, 10037, 10727, 10892, 11063, 11242, 11599, 11928, 12214, 12498, 12726, 12842, 13164, 11229, 11508, 11770, 11974, 12159, 12267, 12570, 12895, 13181, 13560, 13844, 14018, 14104, 14388, 14631, 14932, 15177, 15387, 15490, 15617, 15949, 16273, 16560, 16823, 17071, 17172, 17247, 17354, 17518, 17924, 18231, 18459, 18593, 18708, 18983, 19210, 19412, 19680, 19886, 19986, 20077, 20305, 20488, 20680, 20925, 21171, 21296, 21376, 21579, 21801, 21999, 22225, 22414, 22501, 22647, 22843, 23040, 23252, 23422, 23568, 23682, 23748, 23829, 24024, 24169, 24313, 24475, 24524, 24549, 24742, 24862, 24962, 25096, 25221, 25268, 25321, 25454, 25559, 24039, 24233, 24296, 24331, 24366, 24388, 24490, 24600, 19362], \"yaxis\": \"y\"}, {\"hovertemplate\": \"region=Nordeste<br>date=%{x}<br>deaths=%{y}<extra></extra>\", \"legendgroup\": \"Nordeste\", \"line\": {\"color\": \"#EF553B\", \"dash\": \"solid\"}, \"mode\": \"lines\", \"name\": \"Nordeste\", \"showlegend\": true, \"type\": \"scattergl\", \"x\": [\"2020-03-06\", \"2020-03-07\", \"2020-03-08\", \"2020-03-09\", \"2020-03-10\", \"2020-03-11\", \"2020-03-12\", \"2020-03-13\", \"2020-03-14\", \"2020-03-15\", \"2020-03-16\", \"2020-03-17\", \"2020-03-18\", \"2020-03-19\", \"2020-03-20\", \"2020-03-21\", \"2020-03-22\", \"2020-03-23\", \"2020-03-24\", \"2020-03-25\", \"2020-03-26\", \"2020-03-27\", \"2020-03-28\", \"2020-03-29\", \"2020-03-30\", \"2020-03-31\", \"2020-04-01\", \"2020-04-02\", \"2020-04-03\", \"2020-04-04\", \"2020-04-05\", \"2020-04-06\", \"2020-04-07\", \"2020-04-08\", \"2020-04-09\", \"2020-04-10\", \"2020-04-11\", \"2020-04-12\", \"2020-04-13\", \"2020-04-14\", \"2020-04-15\", \"2020-04-16\", \"2020-04-17\", \"2020-04-18\", \"2020-04-19\", \"2020-04-20\", \"2020-04-21\", \"2020-04-22\", \"2020-04-23\", \"2020-04-24\", \"2020-04-25\", \"2020-04-26\", \"2020-04-27\", \"2020-04-28\", \"2020-04-29\", \"2020-04-30\", \"2020-05-01\", \"2020-05-02\", \"2020-05-03\", \"2020-05-04\", \"2020-05-05\", \"2020-05-06\", \"2020-05-07\", \"2020-05-08\", \"2020-05-09\", \"2020-05-10\", \"2020-05-11\", \"2020-05-12\", \"2020-05-13\", \"2020-05-14\", \"2020-05-15\", \"2020-05-16\", \"2020-05-17\", \"2020-05-18\", \"2020-05-19\", \"2020-05-20\", \"2020-05-21\", \"2020-05-22\", \"2020-05-23\", \"2020-05-24\", \"2020-05-25\", \"2020-05-26\", \"2020-05-27\", \"2020-05-28\", \"2020-05-29\", \"2020-05-30\", \"2020-05-31\", \"2020-06-01\", \"2020-06-02\", \"2020-06-03\", \"2020-06-04\", \"2020-06-05\", \"2020-06-06\", \"2020-06-07\", \"2020-06-08\", \"2020-06-09\", \"2020-06-10\", \"2020-06-11\", \"2020-06-12\", \"2020-06-13\", \"2020-06-14\", \"2020-06-15\", \"2020-06-16\", \"2020-06-17\", \"2020-06-18\", \"2020-06-19\", \"2020-06-20\", \"2020-06-21\", \"2020-06-22\", \"2020-06-23\", \"2020-06-24\", \"2020-06-25\", \"2020-06-26\", \"2020-06-27\", \"2020-06-28\", \"2020-06-29\", \"2020-06-30\", \"2020-07-01\", \"2020-07-02\", \"2020-07-03\", \"2020-07-04\", \"2020-07-05\", \"2020-07-06\", \"2020-07-07\", \"2020-07-08\", \"2020-07-09\", \"2020-07-10\", \"2020-07-11\", \"2020-07-12\", \"2020-07-13\", \"2020-07-14\", \"2020-07-15\", \"2020-07-16\", \"2020-07-17\", \"2020-07-18\", \"2020-07-19\", \"2020-07-20\", \"2020-07-21\", \"2020-07-22\", \"2020-07-23\", \"2020-07-24\", \"2020-07-25\", \"2020-07-26\", \"2020-07-27\", \"2020-07-28\", \"2020-07-29\", \"2020-07-30\", \"2020-07-31\", \"2020-08-01\", \"2020-08-02\", \"2020-08-03\", \"2020-08-04\", \"2020-08-05\", \"2020-08-06\", \"2020-08-07\", \"2020-08-08\", \"2020-08-09\", \"2020-08-10\", \"2020-08-11\", \"2020-08-12\", \"2020-08-13\", \"2020-08-14\", \"2020-08-15\", \"2020-08-16\", \"2020-08-17\", \"2020-08-18\", \"2020-08-19\", \"2020-08-20\", \"2020-08-21\", \"2020-08-22\", \"2020-08-23\", \"2020-08-24\", \"2020-08-25\", \"2020-08-26\", \"2020-08-27\", \"2020-08-28\", \"2020-08-29\", \"2020-08-30\", \"2020-08-31\", \"2020-09-01\", \"2020-09-02\", \"2020-09-03\", \"2020-09-04\", \"2020-09-05\", \"2020-09-06\", \"2020-09-07\", \"2020-09-08\", \"2020-09-09\", \"2020-09-10\", \"2020-09-11\", \"2020-09-12\", \"2020-09-13\", \"2020-09-14\", \"2020-09-15\", \"2020-09-16\", \"2020-09-17\", \"2020-09-18\", \"2020-09-19\", \"2020-09-20\", \"2020-09-21\", \"2020-09-22\", \"2020-09-23\", \"2020-09-24\", \"2020-09-25\", \"2020-09-26\", \"2020-09-27\", \"2020-09-28\", \"2020-09-29\", \"2020-09-30\", \"2020-10-01\", \"2020-10-02\", \"2020-10-03\", \"2020-10-04\", \"2020-10-05\", \"2020-10-06\", \"2020-10-07\", \"2020-10-08\", \"2020-10-09\", \"2020-10-10\", \"2020-10-11\", \"2020-10-12\", \"2020-10-13\", \"2020-10-14\", \"2020-10-15\", \"2020-10-16\", \"2020-10-17\", \"2020-10-18\", \"2020-10-19\", \"2020-10-20\", \"2020-10-21\", \"2020-10-22\", \"2020-10-23\", \"2020-10-24\", \"2020-10-25\", \"2020-10-26\", \"2020-10-27\", \"2020-10-28\", \"2020-10-29\", \"2020-10-30\", \"2020-10-31\", \"2020-11-01\", \"2020-11-02\", \"2020-11-03\", \"2020-11-04\", \"2020-11-05\"], \"xaxis\": \"x\", \"y\": [0, 0, 0, 0, 0, 0, 0, 0, 0, 0, 0, 0, 0, 0, 0, 0, 0, 0, 0, 2, 12, 16, 22, 24, 38, 46, 56, 67, 104, 122, 168, 186, 244, 328, 346, 416, 462, 498, 613, 684, 786, 870, 986, 1106, 1190, 1290, 1408, 1532, 1722, 1896, 2080, 2292, 2484, 2732, 2910, 3150, 3418, 3726, 3906, 4172, 4552, 4079, 5109, 5674, 5844, 6378, 6738, 7218, 7718, 8070, 8448, 9106, 9416, 10072, 10661, 11156, 12024, 12644, 12742, 13542, 14186, 14818, 14976, 16064, 16812, 16738, 17824, 18558, 19586, 20242, 21182, 21806, 21494, 22722, 22662, 24460, 25250, 26160, 26856, 21985, 27892, 28608, 29442, 30148, 30776, 31406, 31185, 32426, 33032, 33882, 34636, 35358, 35169, 35825, 37322, 37976, 38678, 39344, 40208, 41002, 40363, 42042, 41546, 43354, 44192, 44906, 45610, 44772, 46658, 47430, 47998, 48762, 49420, 49944, 41687, 50854, 51554, 52152, 52708, 53430, 52664, 51423, 54850, 53928, 55860, 56376, 56872, 56118, 56051, 58320, 58844, 59374, 59892, 60433, 60832, 57264, 61617, 60456, 62548, 62974, 59274, 63880, 60120, 64634, 65084, 63823, 65970, 66348, 66782, 62814, 67494, 67938, 68336, 68710, 66820, 67154, 65212, 69968, 61901, 68385, 71010, 71262, 71554, 67184, 62411, 72204, 70144, 72798, 67302, 73426, 65447, 73908, 71820, 72142, 72381, 74980, 75248, 70782, 75708, 75960, 76228, 76546, 74747, 77090, 72580, 77552, 77822, 78114, 78414, 78756, 78984, 74366, 79356, 79552, 79794, 80026, 80226, 80388, 75704, 80708, 80854, 81032, 72144, 71184, 73447, 65475, 82206, 79790, 77820, 80149, 80275, 80427, 77996, 80710, 80925, 78056, 81296, 79267, 81632, 79208, 81947, 78964, 79971, 80181, 65911], \"yaxis\": \"y\"}, {\"hovertemplate\": \"region=Norte<br>date=%{x}<br>deaths=%{y}<extra></extra>\", \"legendgroup\": \"Norte\", \"line\": {\"color\": \"#00cc96\", \"dash\": \"solid\"}, \"mode\": \"lines\", \"name\": \"Norte\", \"showlegend\": true, \"type\": \"scattergl\", \"x\": [\"2020-03-13\", \"2020-03-17\", \"2020-03-18\", \"2020-03-19\", \"2020-03-20\", \"2020-03-21\", \"2020-03-22\", \"2020-03-23\", \"2020-03-24\", \"2020-03-25\", \"2020-03-26\", \"2020-03-27\", \"2020-03-28\", \"2020-03-29\", \"2020-03-30\", \"2020-03-31\", \"2020-04-01\", \"2020-04-02\", \"2020-04-03\", \"2020-04-04\", \"2020-04-05\", \"2020-04-06\", \"2020-04-07\", \"2020-04-08\", \"2020-04-09\", \"2020-04-10\", \"2020-04-11\", \"2020-04-12\", \"2020-04-13\", \"2020-04-14\", \"2020-04-15\", \"2020-04-16\", \"2020-04-17\", \"2020-04-18\", \"2020-04-19\", \"2020-04-20\", \"2020-04-21\", \"2020-04-22\", \"2020-04-23\", \"2020-04-24\", \"2020-04-25\", \"2020-04-26\", \"2020-04-27\", \"2020-04-28\", \"2020-04-29\", \"2020-04-30\", \"2020-05-01\", \"2020-05-02\", \"2020-05-03\", \"2020-05-04\", \"2020-05-05\", \"2020-05-06\", \"2020-05-07\", \"2020-05-08\", \"2020-05-09\", \"2020-05-10\", \"2020-05-11\", \"2020-05-12\", \"2020-05-13\", \"2020-05-14\", \"2020-05-15\", \"2020-05-16\", \"2020-05-17\", \"2020-05-18\", \"2020-05-19\", \"2020-05-20\", \"2020-05-21\", \"2020-05-22\", \"2020-05-23\", \"2020-05-24\", \"2020-05-25\", \"2020-05-26\", \"2020-05-27\", \"2020-05-28\", \"2020-05-29\", \"2020-05-30\", \"2020-05-31\", \"2020-06-01\", \"2020-06-02\", \"2020-06-03\", \"2020-06-04\", \"2020-06-05\", \"2020-06-06\", \"2020-06-07\", \"2020-06-08\", \"2020-06-09\", \"2020-06-10\", \"2020-06-11\", \"2020-06-12\", \"2020-06-13\", \"2020-06-14\", \"2020-06-15\", \"2020-06-16\", \"2020-06-17\", \"2020-06-18\", \"2020-06-19\", \"2020-06-20\", \"2020-06-21\", \"2020-06-22\", \"2020-06-23\", \"2020-06-24\", \"2020-06-25\", \"2020-06-26\", \"2020-06-27\", \"2020-06-28\", \"2020-06-29\", \"2020-06-30\", \"2020-07-01\", \"2020-07-02\", \"2020-07-03\", \"2020-07-04\", \"2020-07-05\", \"2020-07-06\", \"2020-07-07\", \"2020-07-08\", \"2020-07-09\", \"2020-07-10\", \"2020-07-11\", \"2020-07-12\", \"2020-07-13\", \"2020-07-14\", \"2020-07-15\", \"2020-07-16\", \"2020-07-17\", \"2020-07-18\", \"2020-07-19\", \"2020-07-20\", \"2020-07-21\", \"2020-07-22\", \"2020-07-23\", \"2020-07-24\", \"2020-07-25\", \"2020-07-26\", \"2020-07-27\", \"2020-07-28\", \"2020-07-29\", \"2020-07-30\", \"2020-07-31\", \"2020-08-01\", \"2020-08-02\", \"2020-08-03\", \"2020-08-04\", \"2020-08-05\", \"2020-08-06\", \"2020-08-07\", \"2020-08-08\", \"2020-08-09\", \"2020-08-10\", \"2020-08-11\", \"2020-08-12\", \"2020-08-13\", \"2020-08-14\", \"2020-08-15\", \"2020-08-16\", \"2020-08-17\", \"2020-08-18\", \"2020-08-19\", \"2020-08-20\", \"2020-08-21\", \"2020-08-22\", \"2020-08-23\", \"2020-08-24\", \"2020-08-25\", \"2020-08-26\", \"2020-08-27\", \"2020-08-28\", \"2020-08-29\", \"2020-08-30\", \"2020-08-31\", \"2020-09-01\", \"2020-09-02\", \"2020-09-03\", \"2020-09-04\", \"2020-09-05\", \"2020-09-06\", \"2020-09-07\", \"2020-09-08\", \"2020-09-09\", \"2020-09-10\", \"2020-09-11\", \"2020-09-12\", \"2020-09-13\", \"2020-09-14\", \"2020-09-15\", \"2020-09-16\", \"2020-09-17\", \"2020-09-18\", \"2020-09-19\", \"2020-09-20\", \"2020-09-21\", \"2020-09-22\", \"2020-09-23\", \"2020-09-24\", \"2020-09-25\", \"2020-09-26\", \"2020-09-27\", \"2020-09-28\", \"2020-09-29\", \"2020-09-30\", \"2020-10-01\", \"2020-10-02\", \"2020-10-03\", \"2020-10-04\", \"2020-10-05\", \"2020-10-06\", \"2020-10-07\", \"2020-10-08\", \"2020-10-09\", \"2020-10-10\", \"2020-10-11\", \"2020-10-12\", \"2020-10-13\", \"2020-10-14\", \"2020-10-15\", \"2020-10-16\", \"2020-10-17\", \"2020-10-18\", \"2020-10-19\", \"2020-10-20\", \"2020-10-21\", \"2020-10-22\", \"2020-10-23\", \"2020-10-24\", \"2020-10-25\", \"2020-10-26\", \"2020-10-27\", \"2020-10-28\", \"2020-10-29\", \"2020-10-30\", \"2020-10-31\", \"2020-11-01\", \"2020-11-02\", \"2020-11-03\", \"2020-11-04\", \"2020-11-05\"], \"xaxis\": \"x\", \"y\": [0, 0, 0, 0, 0, 0, 0, 0, 2, 2, 2, 2, 2, 2, 6, 8, 10, 10, 20, 32, 38, 58, 68, 84, 110, 136, 152, 176, 194, 252, 288, 344, 398, 436, 481, 500, 524, 552, 646, 762, 852, 936, 996, 1080, 1214, 1456, 1648, 1792, 1940, 2098, 2314, 2614, 2902, 3232, 3502, 3730, 4097, 4495, 4859, 5205, 5589, 5765, 6061, 6399, 5342, 7437, 7708, 8274, 8436, 9014, 9480, 9896, 10052, 10748, 11129, 11324, 11380, 11350, 12046, 12126, 12655, 13517, 13400, 13772, 14244, 14301, 14629, 15242, 15370, 15612, 15878, 16170, 16454, 16660, 16950, 17005, 17436, 17534, 17762, 17994, 17889, 17444, 18054, 18656, 18750, 18936, 19202, 19446, 19632, 19786, 19025, 20034, 20142, 20342, 20494, 20628, 20844, 20471, 21032, 21172, 21314, 21518, 21734, 21612, 20217, 20768, 22265, 22490, 22240, 22888, 23068, 22374, 23248, 23384, 23370, 23476, 23624, 23778, 23886, 23948, 24052, 24176, 24342, 24478, 24591, 24675, 24270, 24838, 24417, 25088, 25200, 25300, 25366, 25428, 25602, 19755, 24290, 19935, 26060, 26134, 26186, 26312, 26448, 26554, 26652, 26066, 26784, 26213, 27052, 27184, 26960, 27680, 27166, 27822, 27874, 27916, 28000, 28090, 28188, 28286, 27600, 28496, 28582, 28694, 27954, 21622, 29022, 29062, 29094, 29162, 27734, 28481, 27891, 29538, 28711, 29007, 29710, 29159, 28954, 29243, 29590, 29334, 30338, 29415, 29495, 29540, 29942, 28997, 29049, 22410, 29088, 27737, 29207, 24988, 23619, 29391, 26577, 25143, 28126, 25911, 30014, 30115, 31582, 31620, 31682, 31752, 31796, 31178, 31910, 31214, 30543, 32036, 26764, 24596, 21029], \"yaxis\": \"y\"}, {\"hovertemplate\": \"region=Sudeste<br>date=%{x}<br>deaths=%{y}<extra></extra>\", \"legendgroup\": \"Sudeste\", \"line\": {\"color\": \"#ab63fa\", \"dash\": \"solid\"}, \"mode\": \"lines\", \"name\": \"Sudeste\", \"showlegend\": true, \"type\": \"scattergl\", \"x\": [\"2020-02-25\", \"2020-02-26\", \"2020-02-27\", \"2020-02-28\", \"2020-02-29\", \"2020-03-01\", \"2020-03-02\", \"2020-03-03\", \"2020-03-04\", \"2020-03-05\", \"2020-03-06\", \"2020-03-07\", \"2020-03-08\", \"2020-03-09\", \"2020-03-10\", \"2020-03-11\", \"2020-03-12\", \"2020-03-13\", \"2020-03-14\", \"2020-03-15\", \"2020-03-16\", \"2020-03-17\", \"2020-03-18\", \"2020-03-19\", \"2020-03-20\", \"2020-03-21\", \"2020-03-22\", \"2020-03-23\", \"2020-03-24\", \"2020-03-25\", \"2020-03-26\", \"2020-03-27\", \"2020-03-28\", \"2020-03-29\", \"2020-03-30\", \"2020-03-31\", \"2020-04-01\", \"2020-04-02\", \"2020-04-03\", \"2020-04-04\", \"2020-04-05\", \"2020-04-06\", \"2020-04-07\", \"2020-04-08\", \"2020-04-09\", \"2020-04-10\", \"2020-04-11\", \"2020-04-12\", \"2020-04-13\", \"2020-04-14\", \"2020-04-15\", \"2020-04-16\", \"2020-04-17\", \"2020-04-18\", \"2020-04-19\", \"2020-04-20\", \"2020-04-21\", \"2020-04-22\", \"2020-04-23\", \"2020-04-24\", \"2020-04-25\", \"2020-04-26\", \"2020-04-27\", \"2020-04-28\", \"2020-04-29\", \"2020-04-30\", \"2020-05-01\", \"2020-05-02\", \"2020-05-03\", \"2020-05-04\", \"2020-05-05\", \"2020-05-06\", \"2020-05-07\", \"2020-05-08\", \"2020-05-09\", \"2020-05-10\", \"2020-05-11\", \"2020-05-12\", \"2020-05-13\", \"2020-05-14\", \"2020-05-15\", \"2020-05-16\", \"2020-05-17\", \"2020-05-18\", \"2020-05-19\", \"2020-05-20\", \"2020-05-21\", \"2020-05-22\", \"2020-05-23\", \"2020-05-24\", \"2020-05-25\", \"2020-05-26\", \"2020-05-27\", \"2020-05-28\", \"2020-05-29\", \"2020-05-30\", \"2020-05-31\", \"2020-06-01\", \"2020-06-02\", \"2020-06-03\", \"2020-06-04\", \"2020-06-05\", \"2020-06-06\", \"2020-06-07\", \"2020-06-08\", \"2020-06-09\", \"2020-06-10\", \"2020-06-11\", \"2020-06-12\", \"2020-06-13\", \"2020-06-14\", \"2020-06-15\", \"2020-06-16\", \"2020-06-17\", \"2020-06-18\", \"2020-06-19\", \"2020-06-20\", \"2020-06-21\", \"2020-06-22\", \"2020-06-23\", \"2020-06-24\", \"2020-06-25\", \"2020-06-26\", \"2020-06-27\", \"2020-06-28\", \"2020-06-29\", \"2020-06-30\", \"2020-07-01\", \"2020-07-02\", \"2020-07-03\", \"2020-07-04\", \"2020-07-05\", \"2020-07-06\", \"2020-07-07\", \"2020-07-08\", \"2020-07-09\", \"2020-07-10\", \"2020-07-11\", \"2020-07-12\", \"2020-07-13\", \"2020-07-14\", \"2020-07-15\", \"2020-07-16\", \"2020-07-17\", \"2020-07-18\", \"2020-07-19\", \"2020-07-20\", \"2020-07-21\", \"2020-07-22\", \"2020-07-23\", \"2020-07-24\", \"2020-07-25\", \"2020-07-26\", \"2020-07-27\", \"2020-07-28\", \"2020-07-29\", \"2020-07-30\", \"2020-07-31\", \"2020-08-01\", \"2020-08-02\", \"2020-08-03\", \"2020-08-04\", \"2020-08-05\", \"2020-08-06\", \"2020-08-07\", \"2020-08-08\", \"2020-08-09\", \"2020-08-10\", \"2020-08-11\", \"2020-08-12\", \"2020-08-13\", \"2020-08-14\", \"2020-08-15\", \"2020-08-16\", \"2020-08-17\", \"2020-08-18\", \"2020-08-19\", \"2020-08-20\", \"2020-08-21\", \"2020-08-22\", \"2020-08-23\", \"2020-08-24\", \"2020-08-25\", \"2020-08-26\", \"2020-08-27\", \"2020-08-28\", \"2020-08-29\", \"2020-08-30\", \"2020-08-31\", \"2020-09-01\", \"2020-09-02\", \"2020-09-03\", \"2020-09-04\", \"2020-09-05\", \"2020-09-06\", \"2020-09-07\", \"2020-09-08\", \"2020-09-09\", \"2020-09-10\", \"2020-09-11\", \"2020-09-12\", \"2020-09-13\", \"2020-09-14\", \"2020-09-15\", \"2020-09-16\", \"2020-09-17\", \"2020-09-18\", \"2020-09-19\", \"2020-09-20\", \"2020-09-21\", \"2020-09-22\", \"2020-09-23\", \"2020-09-24\", \"2020-09-25\", \"2020-09-26\", \"2020-09-27\", \"2020-09-28\", \"2020-09-29\", \"2020-09-30\", \"2020-10-01\", \"2020-10-02\", \"2020-10-03\", \"2020-10-04\", \"2020-10-05\", \"2020-10-06\", \"2020-10-07\", \"2020-10-08\", \"2020-10-09\", \"2020-10-10\", \"2020-10-11\", \"2020-10-12\", \"2020-10-13\", \"2020-10-14\", \"2020-10-15\", \"2020-10-16\", \"2020-10-17\", \"2020-10-18\", \"2020-10-19\", \"2020-10-20\", \"2020-10-21\", \"2020-10-22\", \"2020-10-23\", \"2020-10-24\", \"2020-10-25\", \"2020-10-26\", \"2020-10-27\", \"2020-10-28\", \"2020-10-29\", \"2020-10-30\", \"2020-10-31\", \"2020-11-01\", \"2020-11-02\", \"2020-11-03\", \"2020-11-04\", \"2020-11-05\"], \"xaxis\": \"x\", \"y\": [0, 0, 0, 0, 0, 0, 0, 0, 0, 0, 0, 0, 0, 0, 0, 0, 0, 0, 0, 0, 0, 2, 6, 14, 18, 21, 28, 38, 52, 112, 134, 156, 110, 132, 264, 322, 390, 470, 554, 660, 702, 780, 954, 1108, 1280, 1424, 1482, 1584, 1660, 1928, 2188, 2430, 2664, 2894, 2980, 3068, 3262, 3416, 3938, 4366, 4784, 4926, 5254, 5870, 6410, 6808, 7242, 7498, 7700, 7864, 8402, 8986, 9726, 10390, 11102, 11446, 11660, 12432, 13072, 13900, 14690, 15446, 15876, 16276, 17436, 18246, 19048, 20056, 21168, 21658, 22040, 23010, 24136, 25258, 26341, 27310, 27668, 28070, 29266, 30580, 31896, 32878, 33742, 34120, 34440, 35506, 36692, 37810, 38460, 39310, 39792, 40126, 41466, 42750, 44102, 45388, 46502, 46904, 47284, 48732, 49762, 51010, 51786, 49868, 53244, 53612, 54910, 55854, 56938, 58124, 57387, 59498, 59796, 61034, 62050, 63214, 64386, 65306, 65698, 66072, 67436, 68490, 69714, 70748, 47626, 72100, 72418, 73630, 74898, 76016, 77096, 78230, 78562, 78900, 80210, 81370, 82528, 83574, 81575, 81825, 84926, 83131, 84415, 88718, 89684, 90510, 87395, 91240, 92358, 93502, 94810, 95824, 96426, 96840, 97190, 98572, 99806, 101002, 102044, 102822, 103150, 103494, 104774, 105856, 106856, 75956, 78774, 108932, 109144, 110280, 111394, 112222, 113002, 113578, 114000, 82801, 114478, 115648, 116596, 117334, 114842, 118436, 118580, 119694, 120804, 115148, 122462, 123250, 120108, 123740, 117780, 107593, 126312, 123683, 127966, 124732, 124836, 125614, 126483, 127165, 127810, 128480, 73813, 92686, 122054, 93846, 131410, 132204, 132782, 133032, 133101, 133270, 133993, 97028, 97572, 135933, 136175, 98209, 136870, 137495, 138015, 138591, 139038, 139163, 139289, 139749, 140336, 120373, 111937, 103077, 72842, 112238, 121355, 121879, 113307], \"yaxis\": \"y\"}, {\"hovertemplate\": \"region=Sul<br>date=%{x}<br>deaths=%{y}<extra></extra>\", \"legendgroup\": \"Sul\", \"line\": {\"color\": \"#FFA15A\", \"dash\": \"solid\"}, \"mode\": \"lines\", \"name\": \"Sul\", \"showlegend\": true, \"type\": \"scattergl\", \"x\": [\"2020-03-10\", \"2020-03-11\", \"2020-03-12\", \"2020-03-13\", \"2020-03-14\", \"2020-03-15\", \"2020-03-16\", \"2020-03-17\", \"2020-03-18\", \"2020-03-19\", \"2020-03-20\", \"2020-03-21\", \"2020-03-22\", \"2020-03-23\", \"2020-03-24\", \"2020-03-25\", \"2020-03-26\", \"2020-03-27\", \"2020-03-28\", \"2020-03-29\", \"2020-03-30\", \"2020-03-31\", \"2020-04-01\", \"2020-04-02\", \"2020-04-03\", \"2020-04-04\", \"2020-04-05\", \"2020-04-06\", \"2020-04-07\", \"2020-04-08\", \"2020-04-09\", \"2020-04-10\", \"2020-04-11\", \"2020-04-12\", \"2020-04-13\", \"2020-04-14\", \"2020-04-15\", \"2020-04-16\", \"2020-04-17\", \"2020-04-18\", \"2020-04-19\", \"2020-04-20\", \"2020-04-21\", \"2020-04-22\", \"2020-04-23\", \"2020-04-24\", \"2020-04-25\", \"2020-04-26\", \"2020-04-27\", \"2020-04-28\", \"2020-04-29\", \"2020-04-30\", \"2020-05-01\", \"2020-05-02\", \"2020-05-03\", \"2020-05-04\", \"2020-05-05\", \"2020-05-06\", \"2020-05-07\", \"2020-05-08\", \"2020-05-09\", \"2020-05-10\", \"2020-05-11\", \"2020-05-12\", \"2020-05-13\", \"2020-05-14\", \"2020-05-15\", \"2020-05-16\", \"2020-05-17\", \"2020-05-18\", \"2020-05-19\", \"2020-05-20\", \"2020-05-21\", \"2020-05-22\", \"2020-05-23\", \"2020-05-24\", \"2020-05-25\", \"2020-05-26\", \"2020-05-27\", \"2020-05-28\", \"2020-05-29\", \"2020-05-30\", \"2020-05-31\", \"2020-06-01\", \"2020-06-02\", \"2020-06-03\", \"2020-06-04\", \"2020-06-05\", \"2020-06-06\", \"2020-06-07\", \"2020-06-08\", \"2020-06-09\", \"2020-06-10\", \"2020-06-11\", \"2020-06-12\", \"2020-06-13\", \"2020-06-14\", \"2020-06-15\", \"2020-06-16\", \"2020-06-17\", \"2020-06-18\", \"2020-06-19\", \"2020-06-20\", \"2020-06-21\", \"2020-06-22\", \"2020-06-23\", \"2020-06-24\", \"2020-06-25\", \"2020-06-26\", \"2020-06-27\", \"2020-06-28\", \"2020-06-29\", \"2020-06-30\", \"2020-07-01\", \"2020-07-02\", \"2020-07-03\", \"2020-07-04\", \"2020-07-05\", \"2020-07-06\", \"2020-07-07\", \"2020-07-08\", \"2020-07-09\", \"2020-07-10\", \"2020-07-11\", \"2020-07-12\", \"2020-07-13\", \"2020-07-14\", \"2020-07-15\", \"2020-07-16\", \"2020-07-17\", \"2020-07-18\", \"2020-07-19\", \"2020-07-20\", \"2020-07-21\", \"2020-07-22\", \"2020-07-23\", \"2020-07-24\", \"2020-07-25\", \"2020-07-26\", \"2020-07-27\", \"2020-07-28\", \"2020-07-29\", \"2020-07-30\", \"2020-07-31\", \"2020-08-01\", \"2020-08-02\", \"2020-08-03\", \"2020-08-04\", \"2020-08-05\", \"2020-08-06\", \"2020-08-07\", \"2020-08-08\", \"2020-08-09\", \"2020-08-10\", \"2020-08-11\", \"2020-08-12\", \"2020-08-13\", \"2020-08-14\", \"2020-08-15\", \"2020-08-16\", \"2020-08-17\", \"2020-08-18\", \"2020-08-19\", \"2020-08-20\", \"2020-08-21\", \"2020-08-22\", \"2020-08-23\", \"2020-08-24\", \"2020-08-25\", \"2020-08-26\", \"2020-08-27\", \"2020-08-28\", \"2020-08-29\", \"2020-08-30\", \"2020-08-31\", \"2020-09-01\", \"2020-09-02\", \"2020-09-03\", \"2020-09-04\", \"2020-09-05\", \"2020-09-06\", \"2020-09-07\", \"2020-09-08\", \"2020-09-09\", \"2020-09-10\", \"2020-09-11\", \"2020-09-12\", \"2020-09-13\", \"2020-09-14\", \"2020-09-15\", \"2020-09-16\", \"2020-09-17\", \"2020-09-18\", \"2020-09-19\", \"2020-09-20\", \"2020-09-21\", \"2020-09-22\", \"2020-09-23\", \"2020-09-24\", \"2020-09-25\", \"2020-09-26\", \"2020-09-27\", \"2020-09-28\", \"2020-09-29\", \"2020-09-30\", \"2020-10-01\", \"2020-10-02\", \"2020-10-03\", \"2020-10-04\", \"2020-10-05\", \"2020-10-06\", \"2020-10-07\", \"2020-10-08\", \"2020-10-09\", \"2020-10-10\", \"2020-10-11\", \"2020-10-12\", \"2020-10-13\", \"2020-10-14\", \"2020-10-15\", \"2020-10-16\", \"2020-10-17\", \"2020-10-18\", \"2020-10-19\", \"2020-10-20\", \"2020-10-21\", \"2020-10-22\", \"2020-10-23\", \"2020-10-24\", \"2020-10-25\", \"2020-10-26\", \"2020-10-27\", \"2020-10-28\", \"2020-10-29\", \"2020-10-30\", \"2020-10-31\", \"2020-11-01\", \"2020-11-02\", \"2020-11-03\", \"2020-11-04\", \"2020-11-05\"], \"xaxis\": \"x\", \"y\": [0, 0, 0, 0, 0, 0, 0, 0, 0, 0, 0, 0, 0, 0, 0, 2, 4, 10, 10, 10, 18, 18, 20, 28, 32, 48, 54, 66, 76, 88, 112, 118, 128, 142, 152, 170, 178, 188, 198, 210, 226, 230, 238, 254, 266, 286, 296, 312, 332, 344, 362, 388, 408, 420, 430, 456, 486, 506, 522, 534, 542, 554, 576, 600, 626, 652, 670, 690, 708, 732, 768, 790, 816, 842, 864, 882, 932, 976, 1004, 1036, 1056, 1080, 1108, 1146, 1194, 1240, 1282, 1336, 1376, 1402, 1436, 1482, 1564, 1594, 1660, 1714, 1758, 1802, 1916, 1994, 2086, 2170, 2208, 2262, 2366, 2476, 2600, 2656, 2804, 2866, 2940, 3038, 3208, 3292, 3462, 3586, 3722, 3830, 3970, 4128, 4304, 4496, 4712, 4888, 5008, 5202, 5480, 5740, 5950, 6224, 6398, 6528, 6672, 7004, 7296, 7626, 7872, 8174, 8298, 8476, 8766, 9132, 9458, 8694, 10152, 10308, 10524, 10924, 11266, 9400, 11979, 12168, 12300, 12712, 13072, 13386, 13712, 13970, 14158, 14354, 14632, 14972, 15214, 15598, 15832, 16068, 16162, 16356, 16678, 16958, 13921, 17420, 14440, 14511, 17970, 18294, 18534, 18782, 19062, 19302, 19390, 19510, 19714, 20004, 20244, 20550, 20710, 20814, 20952, 21322, 18967, 21790, 22024, 22198, 22266, 22422, 22656, 22890, 23056, 23230, 23390, 23464, 23582, 23864, 24128, 24326, 24484, 24628, 24688, 24858, 25068, 25236, 25344, 25458, 25596, 25652, 20552, 25798, 25998, 26228, 26374, 21116, 26474, 26602, 21885, 27030, 27152, 27306, 22302, 11158, 22419, 22577, 22681, 22786, 22929, 23038, 23074, 23100, 23224, 23401, 20374], \"yaxis\": \"y\"}],                        {\"autosize\": true, \"legend\": {\"title\": {\"text\": \"region\"}, \"tracegroupgap\": 0}, \"margin\": {\"t\": 60}, \"template\": {\"data\": {\"bar\": [{\"error_x\": {\"color\": \"#2a3f5f\"}, \"error_y\": {\"color\": \"#2a3f5f\"}, \"marker\": {\"line\": {\"color\": \"white\", \"width\": 0.5}}, \"type\": \"bar\"}], \"barpolar\": [{\"marker\": {\"line\": {\"color\": \"white\", \"width\": 0.5}}, \"type\": \"barpolar\"}], \"carpet\": [{\"aaxis\": {\"endlinecolor\": \"#2a3f5f\", \"gridcolor\": \"#C8D4E3\", \"linecolor\": \"#C8D4E3\", \"minorgridcolor\": \"#C8D4E3\", \"startlinecolor\": \"#2a3f5f\"}, \"baxis\": {\"endlinecolor\": \"#2a3f5f\", \"gridcolor\": \"#C8D4E3\", \"linecolor\": \"#C8D4E3\", \"minorgridcolor\": \"#C8D4E3\", \"startlinecolor\": \"#2a3f5f\"}, \"type\": \"carpet\"}], \"choropleth\": [{\"colorbar\": {\"outlinewidth\": 0, \"ticks\": \"\"}, \"type\": \"choropleth\"}], \"contour\": [{\"colorbar\": {\"outlinewidth\": 0, \"ticks\": \"\"}, \"colorscale\": [[0.0, \"#0d0887\"], [0.1111111111111111, \"#46039f\"], [0.2222222222222222, \"#7201a8\"], [0.3333333333333333, \"#9c179e\"], [0.4444444444444444, \"#bd3786\"], [0.5555555555555556, \"#d8576b\"], [0.6666666666666666, \"#ed7953\"], [0.7777777777777778, \"#fb9f3a\"], [0.8888888888888888, \"#fdca26\"], [1.0, \"#f0f921\"]], \"type\": \"contour\"}], \"contourcarpet\": [{\"colorbar\": {\"outlinewidth\": 0, \"ticks\": \"\"}, \"type\": \"contourcarpet\"}], \"heatmap\": [{\"colorbar\": {\"outlinewidth\": 0, \"ticks\": \"\"}, \"colorscale\": [[0.0, \"#0d0887\"], [0.1111111111111111, \"#46039f\"], [0.2222222222222222, \"#7201a8\"], [0.3333333333333333, \"#9c179e\"], [0.4444444444444444, \"#bd3786\"], [0.5555555555555556, \"#d8576b\"], [0.6666666666666666, \"#ed7953\"], [0.7777777777777778, \"#fb9f3a\"], [0.8888888888888888, \"#fdca26\"], [1.0, \"#f0f921\"]], \"type\": \"heatmap\"}], \"heatmapgl\": [{\"colorbar\": {\"outlinewidth\": 0, \"ticks\": \"\"}, \"colorscale\": [[0.0, \"#0d0887\"], [0.1111111111111111, \"#46039f\"], [0.2222222222222222, \"#7201a8\"], [0.3333333333333333, \"#9c179e\"], [0.4444444444444444, \"#bd3786\"], [0.5555555555555556, \"#d8576b\"], [0.6666666666666666, \"#ed7953\"], [0.7777777777777778, \"#fb9f3a\"], [0.8888888888888888, \"#fdca26\"], [1.0, \"#f0f921\"]], \"type\": \"heatmapgl\"}], \"histogram\": [{\"marker\": {\"colorbar\": {\"outlinewidth\": 0, \"ticks\": \"\"}}, \"type\": \"histogram\"}], \"histogram2d\": [{\"colorbar\": {\"outlinewidth\": 0, \"ticks\": \"\"}, \"colorscale\": [[0.0, \"#0d0887\"], [0.1111111111111111, \"#46039f\"], [0.2222222222222222, \"#7201a8\"], [0.3333333333333333, \"#9c179e\"], [0.4444444444444444, \"#bd3786\"], [0.5555555555555556, \"#d8576b\"], [0.6666666666666666, \"#ed7953\"], [0.7777777777777778, \"#fb9f3a\"], [0.8888888888888888, \"#fdca26\"], [1.0, \"#f0f921\"]], \"type\": \"histogram2d\"}], \"histogram2dcontour\": [{\"colorbar\": {\"outlinewidth\": 0, \"ticks\": \"\"}, \"colorscale\": [[0.0, \"#0d0887\"], [0.1111111111111111, \"#46039f\"], [0.2222222222222222, \"#7201a8\"], [0.3333333333333333, \"#9c179e\"], [0.4444444444444444, \"#bd3786\"], [0.5555555555555556, \"#d8576b\"], [0.6666666666666666, \"#ed7953\"], [0.7777777777777778, \"#fb9f3a\"], [0.8888888888888888, \"#fdca26\"], [1.0, \"#f0f921\"]], \"type\": \"histogram2dcontour\"}], \"mesh3d\": [{\"colorbar\": {\"outlinewidth\": 0, \"ticks\": \"\"}, \"type\": \"mesh3d\"}], \"parcoords\": [{\"line\": {\"colorbar\": {\"outlinewidth\": 0, \"ticks\": \"\"}}, \"type\": \"parcoords\"}], \"pie\": [{\"automargin\": true, \"type\": \"pie\"}], \"scatter\": [{\"marker\": {\"colorbar\": {\"outlinewidth\": 0, \"ticks\": \"\"}}, \"type\": \"scatter\"}], \"scatter3d\": [{\"line\": {\"colorbar\": {\"outlinewidth\": 0, \"ticks\": \"\"}}, \"marker\": {\"colorbar\": {\"outlinewidth\": 0, \"ticks\": \"\"}}, \"type\": \"scatter3d\"}], \"scattercarpet\": [{\"marker\": {\"colorbar\": {\"outlinewidth\": 0, \"ticks\": \"\"}}, \"type\": \"scattercarpet\"}], \"scattergeo\": [{\"marker\": {\"colorbar\": {\"outlinewidth\": 0, \"ticks\": \"\"}}, \"type\": \"scattergeo\"}], \"scattergl\": [{\"marker\": {\"colorbar\": {\"outlinewidth\": 0, \"ticks\": \"\"}}, \"type\": \"scattergl\"}], \"scattermapbox\": [{\"marker\": {\"colorbar\": {\"outlinewidth\": 0, \"ticks\": \"\"}}, \"type\": \"scattermapbox\"}], \"scatterpolar\": [{\"marker\": {\"colorbar\": {\"outlinewidth\": 0, \"ticks\": \"\"}}, \"type\": \"scatterpolar\"}], \"scatterpolargl\": [{\"marker\": {\"colorbar\": {\"outlinewidth\": 0, \"ticks\": \"\"}}, \"type\": \"scatterpolargl\"}], \"scatterternary\": [{\"marker\": {\"colorbar\": {\"outlinewidth\": 0, \"ticks\": \"\"}}, \"type\": \"scatterternary\"}], \"surface\": [{\"colorbar\": {\"outlinewidth\": 0, \"ticks\": \"\"}, \"colorscale\": [[0.0, \"#0d0887\"], [0.1111111111111111, \"#46039f\"], [0.2222222222222222, \"#7201a8\"], [0.3333333333333333, \"#9c179e\"], [0.4444444444444444, \"#bd3786\"], [0.5555555555555556, \"#d8576b\"], [0.6666666666666666, \"#ed7953\"], [0.7777777777777778, \"#fb9f3a\"], [0.8888888888888888, \"#fdca26\"], [1.0, \"#f0f921\"]], \"type\": \"surface\"}], \"table\": [{\"cells\": {\"fill\": {\"color\": \"#EBF0F8\"}, \"line\": {\"color\": \"white\"}}, \"header\": {\"fill\": {\"color\": \"#C8D4E3\"}, \"line\": {\"color\": \"white\"}}, \"type\": \"table\"}]}, \"layout\": {\"annotationdefaults\": {\"arrowcolor\": \"#2a3f5f\", \"arrowhead\": 0, \"arrowwidth\": 1}, \"coloraxis\": {\"colorbar\": {\"outlinewidth\": 0, \"ticks\": \"\"}}, \"colorscale\": {\"diverging\": [[0, \"#8e0152\"], [0.1, \"#c51b7d\"], [0.2, \"#de77ae\"], [0.3, \"#f1b6da\"], [0.4, \"#fde0ef\"], [0.5, \"#f7f7f7\"], [0.6, \"#e6f5d0\"], [0.7, \"#b8e186\"], [0.8, \"#7fbc41\"], [0.9, \"#4d9221\"], [1, \"#276419\"]], \"sequential\": [[0.0, \"#0d0887\"], [0.1111111111111111, \"#46039f\"], [0.2222222222222222, \"#7201a8\"], [0.3333333333333333, \"#9c179e\"], [0.4444444444444444, \"#bd3786\"], [0.5555555555555556, \"#d8576b\"], [0.6666666666666666, \"#ed7953\"], [0.7777777777777778, \"#fb9f3a\"], [0.8888888888888888, \"#fdca26\"], [1.0, \"#f0f921\"]], \"sequentialminus\": [[0.0, \"#0d0887\"], [0.1111111111111111, \"#46039f\"], [0.2222222222222222, \"#7201a8\"], [0.3333333333333333, \"#9c179e\"], [0.4444444444444444, \"#bd3786\"], [0.5555555555555556, \"#d8576b\"], [0.6666666666666666, \"#ed7953\"], [0.7777777777777778, \"#fb9f3a\"], [0.8888888888888888, \"#fdca26\"], [1.0, \"#f0f921\"]]}, \"colorway\": [\"#636efa\", \"#EF553B\", \"#00cc96\", \"#ab63fa\", \"#FFA15A\", \"#19d3f3\", \"#FF6692\", \"#B6E880\", \"#FF97FF\", \"#FECB52\"], \"font\": {\"color\": \"#2a3f5f\"}, \"geo\": {\"bgcolor\": \"white\", \"lakecolor\": \"white\", \"landcolor\": \"white\", \"showlakes\": true, \"showland\": true, \"subunitcolor\": \"#C8D4E3\"}, \"hoverlabel\": {\"align\": \"left\"}, \"hovermode\": \"closest\", \"mapbox\": {\"style\": \"light\"}, \"paper_bgcolor\": \"white\", \"plot_bgcolor\": \"white\", \"polar\": {\"angularaxis\": {\"gridcolor\": \"#EBF0F8\", \"linecolor\": \"#EBF0F8\", \"ticks\": \"\"}, \"bgcolor\": \"white\", \"radialaxis\": {\"gridcolor\": \"#EBF0F8\", \"linecolor\": \"#EBF0F8\", \"ticks\": \"\"}}, \"scene\": {\"xaxis\": {\"backgroundcolor\": \"white\", \"gridcolor\": \"#DFE8F3\", \"gridwidth\": 2, \"linecolor\": \"#EBF0F8\", \"showbackground\": true, \"ticks\": \"\", \"zerolinecolor\": \"#EBF0F8\"}, \"yaxis\": {\"backgroundcolor\": \"white\", \"gridcolor\": \"#DFE8F3\", \"gridwidth\": 2, \"linecolor\": \"#EBF0F8\", \"showbackground\": true, \"ticks\": \"\", \"zerolinecolor\": \"#EBF0F8\"}, \"zaxis\": {\"backgroundcolor\": \"white\", \"gridcolor\": \"#DFE8F3\", \"gridwidth\": 2, \"linecolor\": \"#EBF0F8\", \"showbackground\": true, \"ticks\": \"\", \"zerolinecolor\": \"#EBF0F8\"}}, \"shapedefaults\": {\"line\": {\"color\": \"#2a3f5f\"}}, \"ternary\": {\"aaxis\": {\"gridcolor\": \"#DFE8F3\", \"linecolor\": \"#A2B1C6\", \"ticks\": \"\"}, \"baxis\": {\"gridcolor\": \"#DFE8F3\", \"linecolor\": \"#A2B1C6\", \"ticks\": \"\"}, \"bgcolor\": \"white\", \"caxis\": {\"gridcolor\": \"#DFE8F3\", \"linecolor\": \"#A2B1C6\", \"ticks\": \"\"}}, \"title\": {\"x\": 0.05}, \"xaxis\": {\"automargin\": true, \"gridcolor\": \"#EBF0F8\", \"linecolor\": \"#EBF0F8\", \"ticks\": \"\", \"title\": {\"standoff\": 15}, \"zerolinecolor\": \"#EBF0F8\", \"zerolinewidth\": 2}, \"yaxis\": {\"automargin\": true, \"gridcolor\": \"#EBF0F8\", \"linecolor\": \"#EBF0F8\", \"ticks\": \"\", \"title\": {\"standoff\": 15}, \"zerolinecolor\": \"#EBF0F8\", \"zerolinewidth\": 2}}}, \"title\": {\"text\": \"N\\u00famero de Mortes por COVID por Regi\\u00e3o\"}, \"xaxis\": {\"anchor\": \"y\", \"domain\": [0.0, 1.0], \"title\": {\"text\": \"Mortes\"}}, \"yaxis\": {\"anchor\": \"x\", \"domain\": [0.0, 1.0], \"title\": {\"text\": \"M\\u00eas/Ano\"}}},                        {\"responsive\": true}                    ).then(function(){\n",
              "                            \n",
              "var gd = document.getElementById('c3490808-8bb4-4606-a8b3-45ac6871d53e');\n",
              "var x = new MutationObserver(function (mutations, observer) {{\n",
              "        var display = window.getComputedStyle(gd).display;\n",
              "        if (!display || display === 'none') {{\n",
              "            console.log([gd, 'removed!']);\n",
              "            Plotly.purge(gd);\n",
              "            observer.disconnect();\n",
              "        }}\n",
              "}});\n",
              "\n",
              "// Listen for the removal of the full notebook cells\n",
              "var notebookContainer = gd.closest('#notebook-container');\n",
              "if (notebookContainer) {{\n",
              "    x.observe(notebookContainer, {childList: true});\n",
              "}}\n",
              "\n",
              "// Listen for the clearing of the current output cell\n",
              "var outputEl = gd.closest('.output');\n",
              "if (outputEl) {{\n",
              "    x.observe(outputEl, {childList: true});\n",
              "}}\n",
              "\n",
              "                        })                };                            </script>        </div>\n",
              "</body>\n",
              "</html>"
            ]
          },
          "metadata": {
            "tags": []
          }
        }
      ]
    },
    {
      "cell_type": "markdown",
      "metadata": {
        "id": "0QwLy2HsBa26"
      },
      "source": [
        "Uma hipótese sobre os dentes é que pode existir um atraso nos envios (finais de semana) ou Estados/regiões que não enviaram em uma certa data.\n",
        "\n",
        "ex:\n",
        "(1 de Nov no Sudeste(Domingo),17 de Out Nordeste( Sábado),\n",
        "25 de Out Sul(Domingo) e 6,12 e19 de Set Nordeste)\n",
        "\n",
        "Obs: olhei bem por cima, depois pretendo validar essas hipótese"
      ]
    },
    {
      "cell_type": "markdown",
      "metadata": {
        "id": "P2YMOaigQQhX"
      },
      "source": [
        "#Próximos passos\n",
        "\n",
        "\n",
        "\n",
        "2.   Validar a hipotese sobre os atrasos\n",
        "3.   Bonus: Usar mapa de calor do Brazil para comparar as regiões(https://plotly.com/python/mapbox-county-choropleth/) \n",
        "\n"
      ]
    },
    {
      "cell_type": "code",
      "metadata": {
        "id": "LQuy4fEm9E91",
        "colab": {
          "base_uri": "https://localhost:8080/",
          "height": 204
        },
        "outputId": "8305d240-13b6-4add-c4b5-1baf384c0e92"
      },
      "source": [
        "#filtrando as colunas que vou utilizar\n",
        "dados_covid_por_estado_filtrados =dados_covid_por_estado.filter(items=['state','confirmed','deaths','is_last','death_rate','region'])\n",
        "dados_covid_por_estado_filtrados.sample(5)"
      ],
      "execution_count": null,
      "outputs": [
        {
          "output_type": "execute_result",
          "data": {
            "text/html": [
              "<div>\n",
              "<style scoped>\n",
              "    .dataframe tbody tr th:only-of-type {\n",
              "        vertical-align: middle;\n",
              "    }\n",
              "\n",
              "    .dataframe tbody tr th {\n",
              "        vertical-align: top;\n",
              "    }\n",
              "\n",
              "    .dataframe thead th {\n",
              "        text-align: right;\n",
              "    }\n",
              "</style>\n",
              "<table border=\"1\" class=\"dataframe\">\n",
              "  <thead>\n",
              "    <tr style=\"text-align: right;\">\n",
              "      <th></th>\n",
              "      <th>state</th>\n",
              "      <th>confirmed</th>\n",
              "      <th>deaths</th>\n",
              "      <th>is_last</th>\n",
              "      <th>death_rate</th>\n",
              "      <th>region</th>\n",
              "    </tr>\n",
              "  </thead>\n",
              "  <tbody>\n",
              "    <tr>\n",
              "      <th>19818</th>\n",
              "      <td>AL</td>\n",
              "      <td>90254</td>\n",
              "      <td>2216</td>\n",
              "      <td>False</td>\n",
              "      <td>0.02</td>\n",
              "      <td>Nordeste</td>\n",
              "    </tr>\n",
              "    <tr>\n",
              "      <th>651967</th>\n",
              "      <td>RR</td>\n",
              "      <td>51450</td>\n",
              "      <td>661</td>\n",
              "      <td>False</td>\n",
              "      <td>0.01</td>\n",
              "      <td>Norte</td>\n",
              "    </tr>\n",
              "    <tr>\n",
              "      <th>40</th>\n",
              "      <td>AC</td>\n",
              "      <td>27859</td>\n",
              "      <td>656</td>\n",
              "      <td>False</td>\n",
              "      <td>0.02</td>\n",
              "      <td>Norte</td>\n",
              "    </tr>\n",
              "    <tr>\n",
              "      <th>174706</th>\n",
              "      <td>MA</td>\n",
              "      <td>22786</td>\n",
              "      <td>784</td>\n",
              "      <td>False</td>\n",
              "      <td>0.03</td>\n",
              "      <td>Nordeste</td>\n",
              "    </tr>\n",
              "    <tr>\n",
              "      <th>566875</th>\n",
              "      <td>RN</td>\n",
              "      <td>40767</td>\n",
              "      <td>1479</td>\n",
              "      <td>False</td>\n",
              "      <td>0.04</td>\n",
              "      <td>Nordeste</td>\n",
              "    </tr>\n",
              "  </tbody>\n",
              "</table>\n",
              "</div>"
            ],
            "text/plain": [
              "       state  confirmed  deaths  is_last  death_rate    region\n",
              "19818     AL      90254    2216    False        0.02  Nordeste\n",
              "651967    RR      51450     661    False        0.01     Norte\n",
              "40        AC      27859     656    False        0.02     Norte\n",
              "174706    MA      22786     784    False        0.03  Nordeste\n",
              "566875    RN      40767    1479    False        0.04  Nordeste"
            ]
          },
          "metadata": {
            "tags": []
          },
          "execution_count": 128
        }
      ]
    },
    {
      "cell_type": "code",
      "metadata": {
        "id": "BvO2eZJ3kDHq"
      },
      "source": [
        "#Contagem da frequência de registros por estados\n",
        "Count_UF = dados_covid_por_estado_filtrados.state.value_counts(ascending=False) \n",
        "#realizando a proporção e normalizando\n",
        "proporcao_registro = (dados_covid_por_estado_filtrados.state.value_counts(normalize=True)*100).round(2)"
      ],
      "execution_count": null,
      "outputs": []
    },
    {
      "cell_type": "code",
      "metadata": {
        "id": "enaAu9KuRpn0"
      },
      "source": [
        "# criando dataframe para visualizar os dados\n",
        "registro_estados = pd.DataFrame({ 'Frequencia' : Count_UF})\n",
        "registro_estados.reset_index(drop=False, inplace= True)\n",
        "registro_estados.rename({'index' : 'UF'}, axis=1, inplace= True)"
      ],
      "execution_count": null,
      "outputs": []
    },
    {
      "cell_type": "markdown",
      "metadata": {
        "id": "Ukg8HW9PrvDM"
      },
      "source": [
        "Vou realizar análise puxando os dados do último Boletim que pelo que entendi da documentação são os dados mais atuais e contém informação dos boletins anteriores\n"
      ]
    },
    {
      "cell_type": "markdown",
      "metadata": {
        "id": "PiWDUIbqK6qU"
      },
      "source": [
        "Filtrando pelo ultimo boletim pela coluna \"Is_late\" e pegando os casos confirmados"
      ]
    },
    {
      "cell_type": "code",
      "metadata": {
        "id": "RzpqYcRxrAWC"
      },
      "source": [
        "ultimo_registro = dados_covid_por_estado_filtrados.query(\"is_last == True\").sort_values('confirmed', ascending=False)"
      ],
      "execution_count": null,
      "outputs": []
    },
    {
      "cell_type": "markdown",
      "metadata": {
        "id": "z0eAg1e2K09a"
      },
      "source": [
        "Filtrando pelo ultimo boletim pela coluna \"Is_late\" e pegando o toal de mortes"
      ]
    },
    {
      "cell_type": "code",
      "metadata": {
        "id": "hT2JlqI8K1ga"
      },
      "source": [
        "ultimo_registro_mortes = dados_covid_por_estado_filtrados.query(\"is_last == True\").sort_values('deaths', ascending=False)\n",
        "ultimo_registro_mortes = ultimo_registro_mortes[['state','deaths']]"
      ],
      "execution_count": null,
      "outputs": []
    },
    {
      "cell_type": "markdown",
      "metadata": {
        "id": "JB-wfffVq_Qa"
      },
      "source": [
        "Passar os gráficos para plotpy (?)"
      ]
    },
    {
      "cell_type": "code",
      "metadata": {
        "id": "6XaPJMst2psJ",
        "colab": {
          "base_uri": "https://localhost:8080/",
          "height": 627
        },
        "outputId": "da10ea57-6236-40f9-96e4-f30982bea68d"
      },
      "source": [
        "fig, sub = plt.subplots(2,1, figsize = (30, 30))\n",
        "#Metodo para plotar + de um gráfico \n",
        "#Gráfico casos confirmados\n",
        "ax =sns.barplot(x=ultimo_registro.state, y= ultimo_registro.confirmed, palette=\"deep\",ax=sub[0])\n",
        "ax.figure.set_size_inches(20, 10)\n",
        "ax.set_title('Casos confirmados por Estados', fontsize = 16)\n",
        "ax.set_xlabel('UF', fontsize= 14)\n",
        "ax.set_ylabel('Casos Confirmados', fontsize = 14)\n",
        "ax.grid(color='grey', linestyle='-.', linewidth=0.5, )\n",
        "ax.set_xticklabels(ax.get_xticklabels(), rotation=0)\n",
        "plt.grid(color='black', linestyle='-', linewidth=0.5)\n",
        "ax.yaxis.set_major_formatter(ticker.StrMethodFormatter('{x:,.2f}')) #formatação dos números\n",
        "\n",
        "#Mortalidade por estados\n",
        "ax2 = sns.barplot(x=ultimo_registro_mortes.state, y= ultimo_registro_mortes.deaths, palette=\"deep\",ax=sub[1])\n",
        "ax2.figure.set_size_inches(20,10)\n",
        "ax2.set_title('Mortalidade por Estados', fontsize = 16)\n",
        "ax2.set_xlabel('Estado', fontsize= 14)\n",
        "ax2.set_ylabel('Registros de Mortes', fontsize = 14)\n",
        "ax2.grid(color='grey', linestyle='-.', linewidth=0.5, )\n",
        "ax2.set_xticklabels(ax2.get_xticklabels(), rotation=0)\n",
        "ax2.grid(color='black', linestyle='-', linewidth=0.5)"
      ],
      "execution_count": null,
      "outputs": [
        {
          "output_type": "display_data",
          "data": {
            "image/png": "[encoded data removed]",
            "text/plain": [
              "<Figure size 1440x720 with 2 Axes>"
            ]
          },
          "metadata": {
            "tags": [],
            "needs_background": "light"
          }
        }
      ]
    },
    {
      "cell_type": "markdown",
      "metadata": {
        "id": "WLUBJbVjnggC"
      },
      "source": [
        "#Levantei a hipotese para comparar a taxa de mortalidade vs a freqência de registros dos casos\n",
        "\n",
        "Ou seja, o estado que mais registra é aquele que realiza mais testes sendo assim impede uma taxa de contagio maior e pode começar o tratamento mais cedo. "
      ]
    },
    {
      "cell_type": "markdown",
      "metadata": {
        "id": "B_4wcxeo_PEJ"
      },
      "source": [
        "Pensando nisso, pesquisei para ver se existia uma base de dados para buscar informações sobre testagem, achei a PNAD Covid do IBGE que traz essa e mais algumas informações.\n",
        "\n",
        "Sendo assim  vou comparar a taxa de Registro/Mortalidade e a taxa de testagem"
      ]
    },
    {
      "cell_type": "code",
      "metadata": {
        "id": "S9WK0byWocaC"
      },
      "source": [
        "ultimo_registro_taxa = dados_covid_por_estado_filtrados.query(\"is_last == True\").sort_values('death_rate', ascending=False)\n",
        "ultimo_registro_taxa = ultimo_registro_taxa[['state','death_rate']]"
      ],
      "execution_count": null,
      "outputs": []
    },
    {
      "cell_type": "code",
      "metadata": {
        "id": "dE3Kk-4QIeVA"
      },
      "source": [
        "# criando dataframe para visualizar os dados\n",
        "registro_estados = pd.DataFrame({ 'Frequencia' : Count_UF})\n",
        "registro_estados.reset_index(drop=False, inplace= True)\n",
        "registro_estados.rename({'index' : 'UF'}, axis=1, inplace= True)"
      ],
      "execution_count": null,
      "outputs": []
    },
    {
      "cell_type": "code",
      "metadata": {
        "id": "Sx42I54kngH5",
        "colab": {
          "base_uri": "https://localhost:8080/",
          "height": 628
        },
        "outputId": "bd70271e-5336-4bd7-babe-5cec4618ce8f"
      },
      "source": [
        "fig, sub = plt.subplots(2,1, figsize = (20,10))\n",
        "\n",
        "#Freqência de registros por estados\n",
        "ax = sns.barplot(x=registro_estados.UF, y= registro_estados.Frequencia, palette=\"deep\",ax=sub[0])\n",
        "ax.figure.set_size_inches(20,10)\n",
        "ax.set_title('Frequência de registros por Estados', fontsize = 16)\n",
        "ax.set_xlabel('Estado', fontsize= 14)\n",
        "ax.set_ylabel('Registros', fontsize = 14)\n",
        "ax.grid(color='grey', linestyle='-.', linewidth=0.5, )\n",
        "ax.set_xticklabels(ax.get_xticklabels(), rotation=0)\n",
        "ax.grid(color='black', linestyle='-', linewidth=0.5)\n",
        "\n",
        "#Taxa de Mortalidade por estados\n",
        "ax2 = sns.barplot(x=ultimo_registro_taxa.state, y= ultimo_registro_taxa.death_rate, palette=\"deep\",ax=sub[1])\n",
        "ax2.figure.set_size_inches(20,10)\n",
        "ax2.set_title('Taxa Mortalidade por Estados', fontsize = 16)\n",
        "ax2.set_xlabel('Estado', fontsize= 14)\n",
        "ax2.set_ylabel('Registros de Mortalidade', fontsize = 14)\n",
        "ax2.grid(color='grey', linestyle='-.', linewidth=0.5, )\n",
        "ax2.set_xticklabels(ax2.get_xticklabels(), rotation=0)\n",
        "ax2.grid(color='black', linestyle='-', linewidth=0.5)"
      ],
      "execution_count": null,
      "outputs": [
        {
          "output_type": "display_data",
          "data": {
            "image/png": "[encoded data removed]",
            "text/plain": [
              "<Figure size 1440x720 with 2 Axes>"
            ]
          },
          "metadata": {
            "tags": [],
            "needs_background": "light"
          }
        }
      ]
    },
    {
      "cell_type": "markdown",
      "metadata": {
        "id": "aIVk4f29NiRB"
      },
      "source": [
        "#Próximos passos\n",
        "\n",
        "1.   comparar os gastos na saude com a mortalidade \n",
        "3.   Comparar os obitos vs a mortes do covid\n",
        "4.   Ver a variação de outras mortes em relação a quarentena\n",
        "5.  Comparar o valor gasto por habitante vs mortalidade\n",
        "\n",
        "\n"
      ]
    },
    {
      "cell_type": "markdown",
      "metadata": {
        "id": "6kC97ZQUSeNP"
      },
      "source": [
        "#Comparação dos obitos"
      ]
    },
    {
      "cell_type": "markdown",
      "metadata": {
        "id": "knokopVYmGmj"
      },
      "source": [
        "##KAGLE"
      ]
    },
    {
      "cell_type": "code",
      "metadata": {
        "id": "hA0CihiNPFjM"
      },
      "source": [
        "obitos_2020 = dados_obitos.query('year == 2020')\n",
        "obitos_por_estado_2020 = obitos_2020.groupby(by='state')['deaths'].sum().to_frame().reset_index()\n",
        "obitos_por_estado_2020 = obitos_por_estado_2020.sort_values('deaths', ascending=False)"
      ],
      "execution_count": null,
      "outputs": []
    },
    {
      "cell_type": "code",
      "metadata": {
        "id": "8kOrTJc3EyOP",
        "colab": {
          "base_uri": "https://localhost:8080/",
          "height": 204
        },
        "outputId": "32b4e2cb-3ce6-4497-914b-9cb548394996"
      },
      "source": [
        "obitos_por_estado_2020.sample(5)"
      ],
      "execution_count": null,
      "outputs": [
        {
          "output_type": "execute_result",
          "data": {
            "text/html": [
              "<div>\n",
              "<style scoped>\n",
              "    .dataframe tbody tr th:only-of-type {\n",
              "        vertical-align: middle;\n",
              "    }\n",
              "\n",
              "    .dataframe tbody tr th {\n",
              "        vertical-align: top;\n",
              "    }\n",
              "\n",
              "    .dataframe thead th {\n",
              "        text-align: right;\n",
              "    }\n",
              "</style>\n",
              "<table border=\"1\" class=\"dataframe\">\n",
              "  <thead>\n",
              "    <tr style=\"text-align: right;\">\n",
              "      <th></th>\n",
              "      <th>state</th>\n",
              "      <th>deaths</th>\n",
              "    </tr>\n",
              "  </thead>\n",
              "  <tbody>\n",
              "    <tr>\n",
              "      <th>11</th>\n",
              "      <td>MS</td>\n",
              "      <td>11254</td>\n",
              "    </tr>\n",
              "    <tr>\n",
              "      <th>24</th>\n",
              "      <td>SE</td>\n",
              "      <td>9644</td>\n",
              "    </tr>\n",
              "    <tr>\n",
              "      <th>17</th>\n",
              "      <td>PR</td>\n",
              "      <td>49242</td>\n",
              "    </tr>\n",
              "    <tr>\n",
              "      <th>18</th>\n",
              "      <td>RJ</td>\n",
              "      <td>113037</td>\n",
              "    </tr>\n",
              "    <tr>\n",
              "      <th>15</th>\n",
              "      <td>PE</td>\n",
              "      <td>49250</td>\n",
              "    </tr>\n",
              "  </tbody>\n",
              "</table>\n",
              "</div>"
            ],
            "text/plain": [
              "   state  deaths\n",
              "11    MS   11254\n",
              "24    SE    9644\n",
              "17    PR   49242\n",
              "18    RJ  113037\n",
              "15    PE   49250"
            ]
          },
          "metadata": {
            "tags": []
          },
          "execution_count": 138
        }
      ]
    },
    {
      "cell_type": "code",
      "metadata": {
        "id": "gSFBNqyQTmpT",
        "colab": {
          "base_uri": "https://localhost:8080/",
          "height": 542
        },
        "outputId": "c42bdbac-337a-457d-8876-ecef1ac4b51f"
      },
      "source": [
        "import plotly.graph_objects as go\n",
        "\n",
        "fig = go.Figure()\n",
        "fig.add_trace(go.Bar(\n",
        "    x=obitos_por_estado_2020.state,y=obitos_por_estado_2020.deaths,\n",
        "    name='Mortes',\n",
        "    marker_color='indianred'\n",
        "))\n",
        "fig.add_trace(go.Bar(\n",
        "    x=ultimo_registro_mortes.state,y=ultimo_registro_mortes.deaths,\n",
        "    name='Mortes por Covid',\n",
        "    marker_color='lightsalmon'\n",
        "))\n",
        "\n",
        "# Here we modify the tickangle of the xaxis, resulting in rotated labels.\n",
        "fig.update_layout(barmode='group', xaxis_tickangle=-45)\n",
        "fig.show()"
      ],
      "execution_count": null,
      "outputs": [
        {
          "output_type": "display_data",
          "data": {
            "text/html": [
              "<html>\n",
              "<head><meta charset=\"utf-8\" /></head>\n",
              "<body>\n",
              "    <div>            <script src=\"https://cdnjs.cloudflare.com/ajax/libs/mathjax/2.7.5/MathJax.js?config=TeX-AMS-MML_SVG\"></script><script type=\"text/javascript\">if (window.MathJax) {MathJax.Hub.Config({SVG: {font: \"STIX-Web\"}});}</script>                <script type=\"text/javascript\">window.PlotlyConfig = {MathJaxConfig: 'local'};</script>\n",
              "        <script src=\"https://cdn.plot.ly/plotly-latest.min.js\"></script>                <div id=\"943c0f69-dba2-4a26-8dde-e585287e95cf\" class=\"plotly-graph-div\" style=\"height:525px; width:100%;\"></div>            <script type=\"text/javascript\">                                    window.PLOTLYENV=window.PLOTLYENV || {};                                    if (document.getElementById(\"943c0f69-dba2-4a26-8dde-e585287e95cf\")) {                    Plotly.newPlot(                        \"943c0f69-dba2-4a26-8dde-e585287e95cf\",                        [{\"marker\": {\"color\": \"indianred\"}, \"name\": \"Mortes\", \"type\": \"bar\", \"x\": [\"SP\", \"RJ\", \"MG\", \"RS\", \"BA\", \"PE\", \"PR\", \"CE\", \"SC\", \"GO\", \"PA\", \"PB\", \"MA\", \"ES\", \"AL\", \"AM\", \"RN\", \"DF\", \"MT\", \"MS\", \"SE\", \"PI\", \"RO\", \"TO\", \"AC\", \"AP\", \"RR\"], \"y\": [236619, 113037, 92921, 60139, 56876, 49250, 49242, 37517, 29403, 26317, 23329, 19504, 19193, 19179, 14031, 13336, 12871, 12152, 12005, 11254, 9644, 9197, 6194, 4488, 3250, 2214, 1952]}, {\"marker\": {\"color\": \"lightsalmon\"}, \"name\": \"Mortes por Covid\", \"type\": \"bar\", \"x\": [\"SP\", \"RJ\", \"CE\", \"MG\", \"PE\", \"BA\", \"PA\", \"RS\", \"GO\", \"PR\", \"AM\", \"MA\", \"ES\", \"MT\", \"DF\", \"SC\", \"PB\", \"RN\", \"PI\", \"AL\", \"SE\", \"MS\", \"RO\", \"TO\", \"AP\", \"AC\", \"RR\"], \"y\": [39717, 20849, 9392, 9128, 8687, 7731, 6779, 5954, 5869, 5293, 4607, 4101, 3896, 3896, 3728, 3173, 3138, 2603, 2459, 2258, 2231, 1629, 1470, 1108, 751, 697, 695]}],                        {\"barmode\": \"group\", \"template\": {\"data\": {\"bar\": [{\"error_x\": {\"color\": \"#2a3f5f\"}, \"error_y\": {\"color\": \"#2a3f5f\"}, \"marker\": {\"line\": {\"color\": \"#E5ECF6\", \"width\": 0.5}}, \"type\": \"bar\"}], \"barpolar\": [{\"marker\": {\"line\": {\"color\": \"#E5ECF6\", \"width\": 0.5}}, \"type\": \"barpolar\"}], \"carpet\": [{\"aaxis\": {\"endlinecolor\": \"#2a3f5f\", \"gridcolor\": \"white\", \"linecolor\": \"white\", \"minorgridcolor\": \"white\", \"startlinecolor\": \"#2a3f5f\"}, \"baxis\": {\"endlinecolor\": \"#2a3f5f\", \"gridcolor\": \"white\", \"linecolor\": \"white\", \"minorgridcolor\": \"white\", \"startlinecolor\": \"#2a3f5f\"}, \"type\": \"carpet\"}], \"choropleth\": [{\"colorbar\": {\"outlinewidth\": 0, \"ticks\": \"\"}, \"type\": \"choropleth\"}], \"contour\": [{\"colorbar\": {\"outlinewidth\": 0, \"ticks\": \"\"}, \"colorscale\": [[0.0, \"#0d0887\"], [0.1111111111111111, \"#46039f\"], [0.2222222222222222, \"#7201a8\"], [0.3333333333333333, \"#9c179e\"], [0.4444444444444444, \"#bd3786\"], [0.5555555555555556, \"#d8576b\"], [0.6666666666666666, \"#ed7953\"], [0.7777777777777778, \"#fb9f3a\"], [0.8888888888888888, \"#fdca26\"], [1.0, \"#f0f921\"]], \"type\": \"contour\"}], \"contourcarpet\": [{\"colorbar\": {\"outlinewidth\": 0, \"ticks\": \"\"}, \"type\": \"contourcarpet\"}], \"heatmap\": [{\"colorbar\": {\"outlinewidth\": 0, \"ticks\": \"\"}, \"colorscale\": [[0.0, \"#0d0887\"], [0.1111111111111111, \"#46039f\"], [0.2222222222222222, \"#7201a8\"], [0.3333333333333333, \"#9c179e\"], [0.4444444444444444, \"#bd3786\"], [0.5555555555555556, \"#d8576b\"], [0.6666666666666666, \"#ed7953\"], [0.7777777777777778, \"#fb9f3a\"], [0.8888888888888888, \"#fdca26\"], [1.0, \"#f0f921\"]], \"type\": \"heatmap\"}], \"heatmapgl\": [{\"colorbar\": {\"outlinewidth\": 0, \"ticks\": \"\"}, \"colorscale\": [[0.0, \"#0d0887\"], [0.1111111111111111, \"#46039f\"], [0.2222222222222222, \"#7201a8\"], [0.3333333333333333, \"#9c179e\"], [0.4444444444444444, \"#bd3786\"], [0.5555555555555556, \"#d8576b\"], [0.6666666666666666, \"#ed7953\"], [0.7777777777777778, \"#fb9f3a\"], [0.8888888888888888, \"#fdca26\"], [1.0, \"#f0f921\"]], \"type\": \"heatmapgl\"}], \"histogram\": [{\"marker\": {\"colorbar\": {\"outlinewidth\": 0, \"ticks\": \"\"}}, \"type\": \"histogram\"}], \"histogram2d\": [{\"colorbar\": {\"outlinewidth\": 0, \"ticks\": \"\"}, \"colorscale\": [[0.0, \"#0d0887\"], [0.1111111111111111, \"#46039f\"], [0.2222222222222222, \"#7201a8\"], [0.3333333333333333, \"#9c179e\"], [0.4444444444444444, \"#bd3786\"], [0.5555555555555556, \"#d8576b\"], [0.6666666666666666, \"#ed7953\"], [0.7777777777777778, \"#fb9f3a\"], [0.8888888888888888, \"#fdca26\"], [1.0, \"#f0f921\"]], \"type\": \"histogram2d\"}], \"histogram2dcontour\": [{\"colorbar\": {\"outlinewidth\": 0, \"ticks\": \"\"}, \"colorscale\": [[0.0, \"#0d0887\"], [0.1111111111111111, \"#46039f\"], [0.2222222222222222, \"#7201a8\"], [0.3333333333333333, \"#9c179e\"], [0.4444444444444444, \"#bd3786\"], [0.5555555555555556, \"#d8576b\"], [0.6666666666666666, \"#ed7953\"], [0.7777777777777778, \"#fb9f3a\"], [0.8888888888888888, \"#fdca26\"], [1.0, \"#f0f921\"]], \"type\": \"histogram2dcontour\"}], \"mesh3d\": [{\"colorbar\": {\"outlinewidth\": 0, \"ticks\": \"\"}, \"type\": \"mesh3d\"}], \"parcoords\": [{\"line\": {\"colorbar\": {\"outlinewidth\": 0, \"ticks\": \"\"}}, \"type\": \"parcoords\"}], \"pie\": [{\"automargin\": true, \"type\": \"pie\"}], \"scatter\": [{\"marker\": {\"colorbar\": {\"outlinewidth\": 0, \"ticks\": \"\"}}, \"type\": \"scatter\"}], \"scatter3d\": [{\"line\": {\"colorbar\": {\"outlinewidth\": 0, \"ticks\": \"\"}}, \"marker\": {\"colorbar\": {\"outlinewidth\": 0, \"ticks\": \"\"}}, \"type\": \"scatter3d\"}], \"scattercarpet\": [{\"marker\": {\"colorbar\": {\"outlinewidth\": 0, \"ticks\": \"\"}}, \"type\": \"scattercarpet\"}], \"scattergeo\": [{\"marker\": {\"colorbar\": {\"outlinewidth\": 0, \"ticks\": \"\"}}, \"type\": \"scattergeo\"}], \"scattergl\": [{\"marker\": {\"colorbar\": {\"outlinewidth\": 0, \"ticks\": \"\"}}, \"type\": \"scattergl\"}], \"scattermapbox\": [{\"marker\": {\"colorbar\": {\"outlinewidth\": 0, \"ticks\": \"\"}}, \"type\": \"scattermapbox\"}], \"scatterpolar\": [{\"marker\": {\"colorbar\": {\"outlinewidth\": 0, \"ticks\": \"\"}}, \"type\": \"scatterpolar\"}], \"scatterpolargl\": [{\"marker\": {\"colorbar\": {\"outlinewidth\": 0, \"ticks\": \"\"}}, \"type\": \"scatterpolargl\"}], \"scatterternary\": [{\"marker\": {\"colorbar\": {\"outlinewidth\": 0, \"ticks\": \"\"}}, \"type\": \"scatterternary\"}], \"surface\": [{\"colorbar\": {\"outlinewidth\": 0, \"ticks\": \"\"}, \"colorscale\": [[0.0, \"#0d0887\"], [0.1111111111111111, \"#46039f\"], [0.2222222222222222, \"#7201a8\"], [0.3333333333333333, \"#9c179e\"], [0.4444444444444444, \"#bd3786\"], [0.5555555555555556, \"#d8576b\"], [0.6666666666666666, \"#ed7953\"], [0.7777777777777778, \"#fb9f3a\"], [0.8888888888888888, \"#fdca26\"], [1.0, \"#f0f921\"]], \"type\": \"surface\"}], \"table\": [{\"cells\": {\"fill\": {\"color\": \"#EBF0F8\"}, \"line\": {\"color\": \"white\"}}, \"header\": {\"fill\": {\"color\": \"#C8D4E3\"}, \"line\": {\"color\": \"white\"}}, \"type\": \"table\"}]}, \"layout\": {\"annotationdefaults\": {\"arrowcolor\": \"#2a3f5f\", \"arrowhead\": 0, \"arrowwidth\": 1}, \"coloraxis\": {\"colorbar\": {\"outlinewidth\": 0, \"ticks\": \"\"}}, \"colorscale\": {\"diverging\": [[0, \"#8e0152\"], [0.1, \"#c51b7d\"], [0.2, \"#de77ae\"], [0.3, \"#f1b6da\"], [0.4, \"#fde0ef\"], [0.5, \"#f7f7f7\"], [0.6, \"#e6f5d0\"], [0.7, \"#b8e186\"], [0.8, \"#7fbc41\"], [0.9, \"#4d9221\"], [1, \"#276419\"]], \"sequential\": [[0.0, \"#0d0887\"], [0.1111111111111111, \"#46039f\"], [0.2222222222222222, \"#7201a8\"], [0.3333333333333333, \"#9c179e\"], [0.4444444444444444, \"#bd3786\"], [0.5555555555555556, \"#d8576b\"], [0.6666666666666666, \"#ed7953\"], [0.7777777777777778, \"#fb9f3a\"], [0.8888888888888888, \"#fdca26\"], [1.0, \"#f0f921\"]], \"sequentialminus\": [[0.0, \"#0d0887\"], [0.1111111111111111, \"#46039f\"], [0.2222222222222222, \"#7201a8\"], [0.3333333333333333, \"#9c179e\"], [0.4444444444444444, \"#bd3786\"], [0.5555555555555556, \"#d8576b\"], [0.6666666666666666, \"#ed7953\"], [0.7777777777777778, \"#fb9f3a\"], [0.8888888888888888, \"#fdca26\"], [1.0, \"#f0f921\"]]}, \"colorway\": [\"#636efa\", \"#EF553B\", \"#00cc96\", \"#ab63fa\", \"#FFA15A\", \"#19d3f3\", \"#FF6692\", \"#B6E880\", \"#FF97FF\", \"#FECB52\"], \"font\": {\"color\": \"#2a3f5f\"}, \"geo\": {\"bgcolor\": \"white\", \"lakecolor\": \"white\", \"landcolor\": \"#E5ECF6\", \"showlakes\": true, \"showland\": true, \"subunitcolor\": \"white\"}, \"hoverlabel\": {\"align\": \"left\"}, \"hovermode\": \"closest\", \"mapbox\": {\"style\": \"light\"}, \"paper_bgcolor\": \"white\", \"plot_bgcolor\": \"#E5ECF6\", \"polar\": {\"angularaxis\": {\"gridcolor\": \"white\", \"linecolor\": \"white\", \"ticks\": \"\"}, \"bgcolor\": \"#E5ECF6\", \"radialaxis\": {\"gridcolor\": \"white\", \"linecolor\": \"white\", \"ticks\": \"\"}}, \"scene\": {\"xaxis\": {\"backgroundcolor\": \"#E5ECF6\", \"gridcolor\": \"white\", \"gridwidth\": 2, \"linecolor\": \"white\", \"showbackground\": true, \"ticks\": \"\", \"zerolinecolor\": \"white\"}, \"yaxis\": {\"backgroundcolor\": \"#E5ECF6\", \"gridcolor\": \"white\", \"gridwidth\": 2, \"linecolor\": \"white\", \"showbackground\": true, \"ticks\": \"\", \"zerolinecolor\": \"white\"}, \"zaxis\": {\"backgroundcolor\": \"#E5ECF6\", \"gridcolor\": \"white\", \"gridwidth\": 2, \"linecolor\": \"white\", \"showbackground\": true, \"ticks\": \"\", \"zerolinecolor\": \"white\"}}, \"shapedefaults\": {\"line\": {\"color\": \"#2a3f5f\"}}, \"ternary\": {\"aaxis\": {\"gridcolor\": \"white\", \"linecolor\": \"white\", \"ticks\": \"\"}, \"baxis\": {\"gridcolor\": \"white\", \"linecolor\": \"white\", \"ticks\": \"\"}, \"bgcolor\": \"#E5ECF6\", \"caxis\": {\"gridcolor\": \"white\", \"linecolor\": \"white\", \"ticks\": \"\"}}, \"title\": {\"x\": 0.05}, \"xaxis\": {\"automargin\": true, \"gridcolor\": \"white\", \"linecolor\": \"white\", \"ticks\": \"\", \"title\": {\"standoff\": 15}, \"zerolinecolor\": \"white\", \"zerolinewidth\": 2}, \"yaxis\": {\"automargin\": true, \"gridcolor\": \"white\", \"linecolor\": \"white\", \"ticks\": \"\", \"title\": {\"standoff\": 15}, \"zerolinecolor\": \"white\", \"zerolinewidth\": 2}}}, \"xaxis\": {\"tickangle\": -45}},                        {\"responsive\": true}                    ).then(function(){\n",
              "                            \n",
              "var gd = document.getElementById('943c0f69-dba2-4a26-8dde-e585287e95cf');\n",
              "var x = new MutationObserver(function (mutations, observer) {{\n",
              "        var display = window.getComputedStyle(gd).display;\n",
              "        if (!display || display === 'none') {{\n",
              "            console.log([gd, 'removed!']);\n",
              "            Plotly.purge(gd);\n",
              "            observer.disconnect();\n",
              "        }}\n",
              "}});\n",
              "\n",
              "// Listen for the removal of the full notebook cells\n",
              "var notebookContainer = gd.closest('#notebook-container');\n",
              "if (notebookContainer) {{\n",
              "    x.observe(notebookContainer, {childList: true});\n",
              "}}\n",
              "\n",
              "// Listen for the clearing of the current output cell\n",
              "var outputEl = gd.closest('.output');\n",
              "if (outputEl) {{\n",
              "    x.observe(outputEl, {childList: true});\n",
              "}}\n",
              "\n",
              "                        })                };                            </script>        </div>\n",
              "</body>\n",
              "</html>"
            ]
          },
          "metadata": {
            "tags": []
          }
        }
      ]
    },
    {
      "cell_type": "markdown",
      "metadata": {
        "id": "uLTtDCAZG7r1"
      },
      "source": [
        "http://tabnet.saude.prefeitura.sp.gov.br/cgi/tabcgi.exe?secretarias/saude/TABNET/SIM_PROV/obitop.def\n",
        "\n",
        "Obitos de SP"
      ]
    },
    {
      "cell_type": "markdown",
      "metadata": {
        "id": "YJWzf9rFmIyf"
      },
      "source": [
        "##DataSus"
      ]
    },
    {
      "cell_type": "code",
      "metadata": {
        "id": "3DzxWiAymL41"
      },
      "source": [
        ""
      ],
      "execution_count": null,
      "outputs": []
    }
  ]
}